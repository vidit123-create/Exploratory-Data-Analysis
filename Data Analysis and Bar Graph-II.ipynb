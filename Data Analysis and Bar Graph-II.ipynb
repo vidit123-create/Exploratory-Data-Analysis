{
 "cells": [
  {
   "cell_type": "markdown",
   "metadata": {},
   "source": [
    "# FUEL.xlsx Dataset"
   ]
  },
  {
   "cell_type": "markdown",
   "metadata": {},
   "source": [
    "# Import libraries"
   ]
  },
  {
   "cell_type": "code",
   "execution_count": 1,
   "metadata": {},
   "outputs": [],
   "source": [
    "import pandas as pd\n",
    "import matplotlib.pyplot as plt"
   ]
  },
  {
   "cell_type": "markdown",
   "metadata": {},
   "source": [
    "# Import dataset"
   ]
  },
  {
   "cell_type": "code",
   "execution_count": 2,
   "metadata": {},
   "outputs": [
    {
     "name": "stdout",
     "output_type": "stream",
     "text": [
      "      EMPLOYEE           XSATRANDAT        VEHICLE       PTROCRD   EXPAMT  \\\n",
      "0     23149398  2019-05-02 00:00:00  KA 03 MU 1683  FC0013800270  2134.35   \n",
      "1     23149398  2019-05-09 00:00:00  KA 03 MU 1683  FC0013800270  3715.10   \n",
      "2     23149398  2019-07-02 00:00:00  KA 03 MU 1683  FC0013800270  3992.79   \n",
      "3     23149398  2019-07-19 00:00:00  KA 03 MU 1683  FC0013800270  4314.24   \n",
      "4     23149398  2019-08-02 00:00:00  KA 03 MU 1683  FC0013800270  4507.80   \n",
      "...        ...                  ...            ...           ...      ...   \n",
      "1949  23100962  2019-07-30 00:00:00     WB02AD7306  FC0013800312  4229.64   \n",
      "1950  23100962  9999-12-31 00:00:00     WB02AD7306  FC0013800312  1366.20   \n",
      "1951  25005101  2019-10-05 00:00:00  WB-02-AD-7306  FC0013800312  4467.25   \n",
      "1952  25005101  9999-12-31 00:00:00  WB-02-AD-7306  FC0013800312  4467.25   \n",
      "1953  23100962  2019-12-09 00:00:00  WB-20-BE-7622  FC0013800312  4696.34   \n",
      "\n",
      "     TRANTYP                         CNAME    DELCITY  AU_MOTOR  ODOMETR  \n",
      "0     DIESEL  INDIA GARAGE SERVICE STATION  Bangalore     31.00    17937  \n",
      "1     DIESEL             BENAKA ENTERPRISE  Bangalore     54.03    18590  \n",
      "2     DIESEL  INDIA GARAGE SERVICE STATION  Bangalore     60.06    19913  \n",
      "3     DIESEL  INDIA GARAGE SERVICE STATION  Bangalore     63.00    20535  \n",
      "4     DIESEL  INDIA GARAGE SERVICE STATION  Bangalore     66.00    21190  \n",
      "...      ...                           ...        ...       ...      ...  \n",
      "1949  DIESEL            SHYAMA TRADING CO.    Kolkata     62.00    62642  \n",
      "1950  DIESEL         MILAP SERVICE STATION    Kolkata     20.00    60808  \n",
      "1951  DIESEL                         CAMAC    Kolkata     64.24    63928  \n",
      "1952  DIESEL                         CAMAC    Kolkata     64.24    63928  \n",
      "1953  DIESEL                         CAMAC    Kolkata     68.66      898  \n",
      "\n",
      "[1954 rows x 10 columns]\n"
     ]
    }
   ],
   "source": [
    "df=pd.read_excel('C:\\\\Users\\\\arpit\\\\Downloads\\\\Fuel_Data_(Rev.01-25-Feb-20).xlsx')\n",
    "print(df)"
   ]
  },
  {
   "cell_type": "markdown",
   "metadata": {},
   "source": [
    "# Identification of variable:-Here we could see that we have both continuous  and categorical variable which contains int and object type data."
   ]
  },
  {
   "cell_type": "markdown",
   "metadata": {},
   "source": [
    "# Identification of datatype"
   ]
  },
  {
   "cell_type": "code",
   "execution_count": 3,
   "metadata": {},
   "outputs": [
    {
     "name": "stdout",
     "output_type": "stream",
     "text": [
      "EMPLOYEE        int64\n",
      "XSATRANDAT     object\n",
      "VEHICLE        object\n",
      "PTROCRD        object\n",
      "EXPAMT        float64\n",
      "TRANTYP        object\n",
      "CNAME          object\n",
      "DELCITY        object\n",
      "AU_MOTOR      float64\n",
      "ODOMETR         int64\n",
      "dtype: object\n"
     ]
    }
   ],
   "source": [
    "print(df.dtypes)"
   ]
  },
  {
   "cell_type": "markdown",
   "metadata": {},
   "source": [
    "# Identification of size "
   ]
  },
  {
   "cell_type": "code",
   "execution_count": 4,
   "metadata": {},
   "outputs": [
    {
     "name": "stdout",
     "output_type": "stream",
     "text": [
      "(1954, 10)\n"
     ]
    }
   ],
   "source": [
    "print(df.shape)"
   ]
  },
  {
   "cell_type": "markdown",
   "metadata": {},
   "source": [
    "# Identification of stats"
   ]
  },
  {
   "cell_type": "code",
   "execution_count": 5,
   "metadata": {},
   "outputs": [
    {
     "name": "stdout",
     "output_type": "stream",
     "text": [
      "           EMPLOYEE       EXPAMT     AU_MOTOR       ODOMETR\n",
      "count  1.954000e+03  1954.000000  1954.000000  1.954000e+03\n",
      "mean   1.111929e+07  3200.922364    44.661192  4.097083e+04\n",
      "std    1.154024e+07   979.997139    14.254718  2.215560e+05\n",
      "min    2.000250e+05     1.000000     0.000000  0.000000e+00\n",
      "25%    2.061740e+05  2526.895000    34.837500  1.011200e+04\n",
      "50%    2.146120e+05  3158.760000    44.300000  2.810200e+04\n",
      "75%    2.316216e+07  3964.125000    56.000000  5.119125e+04\n",
      "max    2.500510e+07  5000.000000    75.300000  9.627123e+06\n"
     ]
    }
   ],
   "source": [
    "print(df.describe())"
   ]
  },
  {
   "cell_type": "markdown",
   "metadata": {},
   "source": [
    "# Find out the missing value in the dataset according to column wise"
   ]
  },
  {
   "cell_type": "code",
   "execution_count": 7,
   "metadata": {},
   "outputs": [
    {
     "name": "stdout",
     "output_type": "stream",
     "text": [
      "EMPLOYEE      0\n",
      "XSATRANDAT    0\n",
      "VEHICLE       0\n",
      "PTROCRD       0\n",
      "EXPAMT        0\n",
      "TRANTYP       1\n",
      "CNAME         0\n",
      "DELCITY       0\n",
      "AU_MOTOR      0\n",
      "ODOMETR       0\n",
      "dtype: int64\n"
     ]
    }
   ],
   "source": [
    "print(df.apply(lambda x: sum(x.isnull()),axis=0))"
   ]
  },
  {
   "cell_type": "markdown",
   "metadata": {},
   "source": [
    "# Variable 1:-EMPLOYEE"
   ]
  },
  {
   "cell_type": "code",
   "execution_count": 8,
   "metadata": {},
   "outputs": [
    {
     "name": "stdout",
     "output_type": "stream",
     "text": [
      "[23149398   200256   210462 23061454 23182426   500176 23192481 23061475\n",
      "   204911 24009256 23061154 23141621 23144253   211197   208607   204364\n",
      " 23098768   206055   201273 23079920 23010021   214059   214830   209397\n",
      "   215667   200720   209218   200519   206814 23137327   208989   205045\n",
      "   210613   203213   200025   210379   207967   206923   204132   214612\n",
      "   200785 23144970   207307 23151702 23135551   206174 23148131   208369\n",
      " 23155311 23102980   205131   200577   215401 23162160   209105   214609\n",
      "   200238   203656   201661 23163907 23166093   203380   202214 23166736\n",
      "   200755   208071 23167435 23076582   211002   203610 23167137   210401\n",
      "   209479 23172291   200895 23075752   201508   212834 23192841 23073922\n",
      " 23200122 23103492   213593 23082897 23172838 25000431 23103379 23106941\n",
      " 25001212 23061155 25001858   208492   215250 23010044   206575   214614\n",
      "   208891   210103 23092538 23066772 23062237 23061476 25000421 25001145\n",
      " 25001262 23096645   204912   212752 23100962 25005101]\n",
      "110\n"
     ]
    }
   ],
   "source": [
    "print(df['EMPLOYEE'].unique())\n",
    "print(df['EMPLOYEE'].nunique())"
   ]
  },
  {
   "cell_type": "markdown",
   "metadata": {},
   "source": [
    "# Find the total count of each data_item using value_count()"
   ]
  },
  {
   "cell_type": "code",
   "execution_count": 9,
   "metadata": {},
   "outputs": [
    {
     "name": "stdout",
     "output_type": "stream",
     "text": [
      "23192481    283\n",
      "206055       83\n",
      "200720       78\n",
      "23141621     52\n",
      "206814       41\n",
      "           ... \n",
      "207967        1\n",
      "23182426      1\n",
      "23167435      1\n",
      "23061154      1\n",
      "210401        1\n",
      "Name: EMPLOYEE, Length: 110, dtype: int64\n"
     ]
    }
   ],
   "source": [
    "print(df['EMPLOYEE'].value_counts())"
   ]
  },
  {
   "cell_type": "markdown",
   "metadata": {},
   "source": [
    "# Plotting of graph using bar graph:- As we know that bar graph is generally used for comparision of two category in a particular column but if we have continuous variable then we use to take the top 5 or 10 data_items because as we know that we if we plot all the data_item then in graph all the data_item will appear close to each other due to which analysis of data is not done properly and bars will overlap with each other and due to which we will not able to analyze the total count of any data_item and hence anlaysis will not be done clearly with bar graph for continuous variable and object type if column contains more data."
   ]
  },
  {
   "cell_type": "code",
   "execution_count": 10,
   "metadata": {},
   "outputs": [
    {
     "data": {
      "text/plain": [
       "<BarContainer object of 6 artists>"
      ]
     },
     "execution_count": 10,
     "metadata": {},
     "output_type": "execute_result"
    },
    {
     "data": {
      "image/png": "[encoded data removed]",
      "text/plain": [
       "<Figure size 432x288 with 1 Axes>"
      ]
     },
     "metadata": {
      "needs_background": "light"
     },
     "output_type": "display_data"
    }
   ],
   "source": [
    "x=[\"23192481\",\"206055\",\"200720\",\"23141621\",\"206814\",\"207967\"]\n",
    "y=[283,83,78,52,41,1]\n",
    "plt.xlabel('EMPLOYEE')\n",
    "plt.ylabel('Total_count')\n",
    "plt.bar(x,y,width =0.1,color =['red','blue'])"
   ]
  },
  {
   "cell_type": "markdown",
   "metadata": {},
   "source": [
    "# Variable 2:-Date and Time"
   ]
  },
  {
   "cell_type": "code",
   "execution_count": 12,
   "metadata": {},
   "outputs": [
    {
     "name": "stdout",
     "output_type": "stream",
     "text": [
      "[datetime.datetime(2019, 5, 2, 0, 0) datetime.datetime(2019, 5, 9, 0, 0)\n",
      " datetime.datetime(2019, 7, 2, 0, 0) datetime.datetime(2019, 7, 19, 0, 0)\n",
      " datetime.datetime(2019, 8, 2, 0, 0) datetime.datetime(2019, 8, 17, 0, 0)\n",
      " datetime.datetime(9999, 12, 31, 0, 0)\n",
      " datetime.datetime(2019, 5, 16, 0, 0) datetime.datetime(2019, 5, 29, 0, 0)\n",
      " datetime.datetime(2019, 7, 12, 0, 0) datetime.datetime(2019, 7, 23, 0, 0)\n",
      " datetime.datetime(2019, 7, 26, 0, 0) datetime.datetime(2019, 8, 1, 0, 0)\n",
      " datetime.datetime(2019, 8, 24, 0, 0) datetime.datetime(2019, 10, 4, 0, 0)\n",
      " datetime.datetime(2019, 12, 19, 0, 0)\n",
      " datetime.datetime(2019, 12, 27, 0, 0)\n",
      " datetime.datetime(2019, 10, 21, 0, 0)\n",
      " datetime.datetime(2019, 10, 30, 0, 0)\n",
      " datetime.datetime(2019, 12, 11, 0, 0) datetime.datetime(2019, 5, 3, 0, 0)\n",
      " datetime.datetime(2019, 5, 24, 0, 0) datetime.datetime(2019, 7, 3, 0, 0)\n",
      " datetime.datetime(2019, 7, 28, 0, 0) datetime.datetime(2019, 8, 7, 0, 0)\n",
      " datetime.datetime(2019, 12, 6, 0, 0)\n",
      " datetime.datetime(2019, 12, 29, 0, 0)\n",
      " datetime.datetime(2019, 10, 22, 0, 0)\n",
      " datetime.datetime(2019, 5, 11, 0, 0) datetime.datetime(2019, 5, 22, 0, 0)\n",
      " datetime.datetime(2019, 7, 13, 0, 0) datetime.datetime(2019, 7, 25, 0, 0)\n",
      " datetime.datetime(2019, 8, 16, 0, 0) datetime.datetime(2019, 5, 7, 0, 0)\n",
      " datetime.datetime(2019, 5, 15, 0, 0) datetime.datetime(2019, 5, 23, 0, 0)\n",
      " datetime.datetime(2019, 7, 27, 0, 0) datetime.datetime(2019, 5, 28, 0, 0)\n",
      " datetime.datetime(2019, 8, 12, 0, 0) datetime.datetime(2019, 5, 17, 0, 0)\n",
      " datetime.datetime(2019, 7, 10, 0, 0) datetime.datetime(2019, 7, 30, 0, 0)\n",
      " datetime.datetime(2019, 8, 22, 0, 0) datetime.datetime(2019, 8, 14, 0, 0)\n",
      " datetime.datetime(2019, 5, 21, 0, 0) datetime.datetime(2019, 5, 31, 0, 0)\n",
      " datetime.datetime(2019, 7, 9, 0, 0) datetime.datetime(2019, 7, 24, 0, 0)\n",
      " datetime.datetime(2019, 8, 5, 0, 0) datetime.datetime(2019, 8, 21, 0, 0)\n",
      " datetime.datetime(2019, 5, 12, 0, 0) datetime.datetime(2019, 5, 6, 0, 0)\n",
      " datetime.datetime(2019, 7, 5, 0, 0) datetime.datetime(2019, 8, 8, 0, 0)\n",
      " datetime.datetime(2019, 8, 26, 0, 0) datetime.datetime(2019, 5, 5, 0, 0)\n",
      " datetime.datetime(2019, 7, 11, 0, 0) datetime.datetime(2019, 7, 17, 0, 0)\n",
      " datetime.datetime(2019, 7, 20, 0, 0) datetime.datetime(2019, 8, 3, 0, 0)\n",
      " datetime.datetime(2019, 8, 11, 0, 0) datetime.datetime(2019, 8, 19, 0, 0)\n",
      " datetime.datetime(2019, 8, 27, 0, 0) datetime.datetime(2019, 1, 17, 0, 0)\n",
      " datetime.datetime(2019, 5, 14, 0, 0) datetime.datetime(2019, 5, 19, 0, 0)\n",
      " datetime.datetime(2019, 7, 16, 0, 0) datetime.datetime(2019, 8, 6, 0, 0)\n",
      " datetime.datetime(2019, 5, 4, 0, 0) datetime.datetime(2019, 8, 10, 0, 0)\n",
      " datetime.datetime(2019, 8, 23, 0, 0) datetime.datetime(2019, 8, 31, 0, 0)\n",
      " datetime.datetime(2019, 1, 15, 0, 0) datetime.datetime(2019, 5, 13, 0, 0)\n",
      " datetime.datetime(2019, 5, 18, 0, 0) datetime.datetime(2019, 7, 21, 0, 0)\n",
      " datetime.datetime(2019, 7, 31, 0, 0) datetime.datetime(2019, 1, 18, 0, 0)\n",
      " datetime.datetime(2019, 1, 13, 0, 0) datetime.datetime(2019, 7, 22, 0, 0)\n",
      " datetime.datetime(2019, 8, 13, 0, 0) datetime.datetime(2019, 8, 29, 0, 0)\n",
      " datetime.datetime(2019, 7, 1, 0, 0) datetime.datetime(2019, 7, 6, 0, 0)\n",
      " datetime.datetime(2019, 5, 20, 0, 0) datetime.datetime(2019, 5, 26, 0, 0)\n",
      " datetime.datetime(2019, 5, 30, 0, 0) datetime.datetime(2019, 7, 15, 0, 0)\n",
      " datetime.datetime(2019, 7, 7, 0, 0) datetime.datetime(2019, 5, 10, 0, 0)\n",
      " datetime.datetime(2019, 5, 25, 0, 0) datetime.datetime(2019, 8, 30, 0, 0)\n",
      " datetime.datetime(2019, 5, 27, 0, 0) datetime.datetime(2019, 7, 8, 0, 0)\n",
      " datetime.datetime(2019, 7, 29, 0, 0) datetime.datetime(2019, 5, 1, 0, 0)\n",
      " datetime.datetime(2019, 8, 20, 0, 0) datetime.datetime(2019, 8, 9, 0, 0)\n",
      " datetime.datetime(2019, 8, 25, 0, 0) datetime.datetime(2019, 7, 4, 0, 0)\n",
      " datetime.datetime(2019, 8, 4, 0, 0) datetime.datetime(2019, 8, 15, 0, 0)\n",
      " datetime.datetime(2019, 7, 14, 0, 0) datetime.datetime(2019, 8, 18, 0, 0)\n",
      " datetime.datetime(2019, 5, 8, 0, 0) datetime.datetime(2019, 7, 18, 0, 0)\n",
      " datetime.datetime(2019, 1, 16, 0, 0) datetime.datetime(2019, 8, 28, 0, 0)\n",
      " datetime.datetime(2019, 1, 14, 0, 0)\n",
      " datetime.datetime(2019, 10, 19, 0, 0)\n",
      " datetime.datetime(2019, 12, 14, 0, 0)\n",
      " datetime.datetime(2019, 10, 7, 0, 0)\n",
      " datetime.datetime(2019, 12, 10, 0, 0)\n",
      " datetime.datetime(2019, 12, 30, 0, 0)\n",
      " datetime.datetime(2019, 10, 17, 0, 0)\n",
      " datetime.datetime(2019, 10, 5, 0, 0)\n",
      " datetime.datetime(2019, 10, 25, 0, 0)\n",
      " datetime.datetime(2019, 10, 3, 0, 0)\n",
      " datetime.datetime(2019, 10, 16, 0, 0)\n",
      " datetime.datetime(2019, 10, 24, 0, 0)\n",
      " datetime.datetime(2019, 12, 2, 0, 0)\n",
      " datetime.datetime(2019, 12, 12, 0, 0)\n",
      " datetime.datetime(2019, 12, 24, 0, 0)\n",
      " datetime.datetime(2019, 10, 12, 0, 0)\n",
      " datetime.datetime(2019, 10, 18, 0, 0)\n",
      " datetime.datetime(2019, 12, 1, 0, 0) datetime.datetime(2019, 12, 9, 0, 0)\n",
      " datetime.datetime(2019, 12, 25, 0, 0)\n",
      " datetime.datetime(2019, 10, 15, 0, 0)\n",
      " datetime.datetime(2019, 12, 16, 0, 0)\n",
      " datetime.datetime(2019, 10, 29, 0, 0)\n",
      " datetime.datetime(2019, 10, 10, 0, 0)\n",
      " datetime.datetime(2019, 10, 28, 0, 0)\n",
      " datetime.datetime(2019, 10, 31, 0, 0)\n",
      " datetime.datetime(2019, 12, 4, 0, 0)\n",
      " datetime.datetime(2019, 12, 20, 0, 0)\n",
      " datetime.datetime(2019, 10, 9, 0, 0) datetime.datetime(2019, 12, 7, 0, 0)\n",
      " datetime.datetime(2019, 12, 17, 0, 0)\n",
      " datetime.datetime(2019, 10, 2, 0, 0)\n",
      " datetime.datetime(2019, 10, 13, 0, 0)\n",
      " datetime.datetime(2019, 10, 1, 0, 0)\n",
      " datetime.datetime(2019, 10, 23, 0, 0)\n",
      " datetime.datetime(2019, 10, 14, 0, 0)\n",
      " datetime.datetime(2019, 10, 20, 0, 0)\n",
      " datetime.datetime(2019, 12, 15, 0, 0)\n",
      " datetime.datetime(2019, 12, 26, 0, 0)\n",
      " datetime.datetime(2019, 12, 31, 0, 0)\n",
      " datetime.datetime(2019, 12, 3, 0, 0) datetime.datetime(2019, 10, 6, 0, 0)\n",
      " datetime.datetime(2019, 12, 5, 0, 0)\n",
      " datetime.datetime(2019, 12, 18, 0, 0)\n",
      " datetime.datetime(2019, 12, 23, 0, 0)\n",
      " datetime.datetime(2019, 10, 27, 0, 0)\n",
      " datetime.datetime(2019, 12, 21, 0, 0)\n",
      " datetime.datetime(2019, 10, 11, 0, 0)\n",
      " datetime.datetime(2019, 12, 13, 0, 0)\n",
      " datetime.datetime(2019, 12, 8, 0, 0)\n",
      " datetime.datetime(2019, 12, 28, 0, 0)\n",
      " datetime.datetime(2019, 10, 26, 0, 0)\n",
      " datetime.datetime(2019, 10, 8, 0, 0)\n",
      " datetime.datetime(2019, 12, 22, 0, 0)]\n",
      "162\n"
     ]
    }
   ],
   "source": [
    "print(df['XSATRANDAT'].unique())\n",
    "print(df['XSATRANDAT'].nunique())"
   ]
  },
  {
   "cell_type": "markdown",
   "metadata": {},
   "source": [
    "# Find the total count of each data_item using value_count()"
   ]
  },
  {
   "cell_type": "code",
   "execution_count": 13,
   "metadata": {},
   "outputs": [
    {
     "name": "stdout",
     "output_type": "stream",
     "text": [
      "9999-12-31 00:00:00    344\n",
      "2019-07-15 00:00:00     21\n",
      "2019-08-07 00:00:00     19\n",
      "2019-08-31 00:00:00     17\n",
      "2019-07-01 00:00:00     17\n",
      "                      ... \n",
      "2019-07-14 00:00:00      3\n",
      "2019-01-17 00:00:00      2\n",
      "2019-12-22 00:00:00      2\n",
      "2019-01-16 00:00:00      1\n",
      "2019-01-14 00:00:00      1\n",
      "Name: XSATRANDAT, Length: 162, dtype: int64\n"
     ]
    }
   ],
   "source": [
    "print(df['XSATRANDAT'].value_counts())"
   ]
  },
  {
   "cell_type": "markdown",
   "metadata": {},
   "source": [
    "# Plotting of graph using bar graph:-As we know that bar graph is generally used for comparision of two category in a particular column but if we have object datatype then we use to take the top 5 or 10 data_items because as we know that we if we plot all the data_item then in graph all the data_item will appear close to each other due to which analysis of data is not done properly and bars will overlap with each other and due to which we will not able to analyze the total count of any data_item and hence anlaysis will not be done clearly with bar graph for continuous variable and object type if column contains more data."
   ]
  },
  {
   "cell_type": "code",
   "execution_count": 14,
   "metadata": {},
   "outputs": [
    {
     "data": {
      "text/plain": [
       "<BarContainer object of 5 artists>"
      ]
     },
     "execution_count": 14,
     "metadata": {},
     "output_type": "execute_result"
    },
    {
     "data": {
      "image/png": "[encoded data removed]",
      "text/plain": [
       "<Figure size 432x288 with 1 Axes>"
      ]
     },
     "metadata": {
      "needs_background": "light"
     },
     "output_type": "display_data"
    }
   ],
   "source": [
    "x=[\"12-31-9999\",\"07-15-2019\",\"07-08-2019\",\"31-08-2019\",\"14-07-2019\"]\n",
    "y=[344,21,19,17,3]\n",
    "plt.xlabel('XSATRANDAT')\n",
    "plt.ylabel('Total_count')\n",
    "plt.bar(x,y,width =0.1,color =['red','green'])"
   ]
  },
  {
   "cell_type": "markdown",
   "metadata": {},
   "source": [
    "# Variable 3:-VEHICLE"
   ]
  },
  {
   "cell_type": "code",
   "execution_count": 16,
   "metadata": {},
   "outputs": [
    {
     "name": "stdout",
     "output_type": "stream",
     "text": [
      "['KA 03 MU 1683' 'KA 04 MQ 6924' 'KA-01-MQ-6924' 'KA-03-MU-1683'\n",
      " 'KCMET DEPT' 'KL 07 BY 9244' 'KL 07 CM 7452' 'KL-07-CM-7452'\n",
      " 'MH 01 AH 9059' 'MH 01 AL 2011' 'MH 01 AL 2891' 'MH 01 AX6934'\n",
      " 'MH 01 BB 1472' 'MH 01 BB 1603' 'MH 01 BB 5087' 'MH 01 BF 0689'\n",
      " 'MH 01 BF 1950' 'MH 01 BF 3607' 'MH 01 BF 4289' 'MH 01 BF 5901'\n",
      " 'MH 01 BF 7223' 'MH 01 BF 7282' 'MH 01 BG 1270' 'MH 01 BG 8276'\n",
      " 'MH 01 BG 8823' 'MH 01 BK 0589' 'MH 01 BK 4088' 'MH 01 BK 5373'\n",
      " 'MH 01 BK 6806' 'MH 01 BK 7437' 'MH 01 BK 7728' 'MH 01 BK 7995'\n",
      " 'MH 01 BK 8101' 'MH 01 BK 9809' 'MH 01 BR 1555' 'MH 01 BS 1555'\n",
      " 'MH 01 BU 1446' 'MH 01 BU 2759' 'MH 01 BU 3361' 'MH 01 BU 4372'\n",
      " 'MH 01 BU 4808' 'MH 01 BU 7413' 'MH 01 BU 8057' 'MH 01 BU 8819'\n",
      " 'MH 01 BY 0867' 'MH 01 BY 0998' 'MH 01 BY 1003' 'MH 01 BY 1753'\n",
      " 'MH 01 BY 3568' 'MH 01 BY 6408' 'MH 01 BY 6965' 'MH 01 BY 7044'\n",
      " 'MH 01 BY 7839' 'MH 01 BY 8298' 'MH 01 BY 8551' 'MH 01 BY 8717'\n",
      " 'MH 01 BY 9802' 'MH 01 CD 0424' 'MH 01 CD 0425' 'MH 01 CD 1017'\n",
      " 'MH 01 CD 1907' 'MH 01 CD 2161' 'MH 01 CD 2509' 'MH 01 CD 2663'\n",
      " 'MH 01 CD 2665' 'MH 01 CD 2869' 'MH 01 CD 3498' 'MH 01 CD 4928'\n",
      " 'MH 01 CD 4929' 'MH 01 CD 5338' 'MH 01 CD 5475' 'MH 01 CD 5766'\n",
      " 'MH 01 CD 5816' 'MH 01 CD 5877' 'MH 01 CD 5914' 'MH 01 CD 5986'\n",
      " 'MH 01 CD 6173' 'MH 01 CD 6615' 'MH 01 CD 6968' 'MH 01 CD 6972'\n",
      " 'MH 01 CD 6991' 'MH 01 CD 7461' 'MH 01 CD 7620' 'MH 01 CD 8376'\n",
      " 'MH 01 CD 8678' 'MH 01 CD 8722' 'MH 01 CD 9361' 'MH 01 CD 9439'\n",
      " 'MH 01 CD 9760' 'MH 01 CH 0424' 'MH 01 CH 0442' 'MH 01 CH 1171'\n",
      " 'MH 01 CH 1340' 'MH 01 CH 1772' 'MH 01 CH 2138' 'MH 01 CH 3597'\n",
      " 'MH 01 CH 3603' 'MH 01 CH 3956' 'MH 01 CH 5732' 'MH 01 CH 6138'\n",
      " 'MH 01 CP 2491' 'MH 01 CP 4029' 'MH 01 CP 4853' 'MH 01 CP 5057'\n",
      " 'MH 01 CP 7882' 'MH 01 CP 9491' 'MH 01 CQ 1323' 'MH 01 CQ 5677'\n",
      " 'MH 01 CT  7460' 'MH 01 CT 0748' 'MH 01 CT 3496' 'MH 01 CT 7133'\n",
      " 'MH 01 CT 8311' 'MH 01 DB 1183' 'MH 01 DB 1288' 'MH 01 DB 3182'\n",
      " 'MH 01 DB 3288' 'MH 01 DB 3655' 'MH 01 DB 3814' 'Mh 01 DB 3984'\n",
      " 'MH 01 DB 5178' 'MH 01 DB 5803' 'MH 01 DB 6686' 'MH 01 DB 6965'\n",
      " 'MH 01 DB 7214' 'MH 01 DB 7561' 'MH 01 DB 9261' 'MH 01 DB 9362'\n",
      " 'MH 01 DE 2254' 'MH 01 DE 4602' 'MH 01 DE 6997' 'MH 01 DE 7303'\n",
      " 'MH 01 DE 7942' 'MH 01 DE 8851' 'MH 01 DE 8932' 'MH 01 DK 0812'\n",
      " 'MH 01CP 2422' 'MH 1 CH 0424' 'MH 14 CK 2660' 'MH 14 CS 9823'\n",
      " 'MH 14 EC 1370' 'MH 14 FM 2784' 'MH 15 DC 2387' 'MH 15 DS 8327'\n",
      " 'MH 15 DS 8356' 'MH 15 EP 1635' 'MH 15 EX 4733' 'MH 15 FT 4366'\n",
      " 'MH 47 AF 1555' 'MH01 CH 5421' 'MH-01-AL-2011' 'MH01AL2891'\n",
      " 'MH-01-AX-6934' 'MH-01-BB-1472' 'MH-01-BF-1950' 'MH-01-BF-4289'\n",
      " 'MH01BF5901' 'MH-01-BF-5901' 'MH01BG1270' 'MH-01-BG-1270' 'MH01BK0613'\n",
      " 'MH-01-BK-6806' 'MH-01-BK-7728' 'MH01BK7995' 'MH-01-BR-1555'\n",
      " 'MH-01-BS-1555' 'MH-01-BU-1446' 'MH-01-BU-8057' 'MH-01-BU-8819'\n",
      " 'MH-01-BY-1003' 'MH-01-BY-5373' 'MH-01-BY-6408' 'MH-01-BY-6965'\n",
      " 'MH-01-BY-8298' 'MH-01-BY-9802' 'MH-01-CB-6188' 'MH-01-CD-0424'\n",
      " 'MH-01-CD-0425' 'MH-01-CD-1017' 'MH-01-CD-1907' 'MH-01-CD-2161'\n",
      " 'MH-01-CD-2509' 'MH-01-CD-2663' 'MH01CD2665' 'MH-01-CD-2665' 'MH01CD3498'\n",
      " 'MH-01-CD-3498' 'MH-01-CD-4929' 'MH01CD5335' 'MH-01-CD-5335'\n",
      " 'MH-01-CD-5338' 'MH-01-CD-5475' 'MH-01-CD-5816' 'MH-01-CD-5877'\n",
      " 'MH-01-CD-5914' 'MH-01-CD-5986' 'MH-01-CD-6173' 'MH-01-CD-6615'\n",
      " 'MH-01-CD-6968' 'MH-01-CD-6991' 'MH-01-CD-7461' 'MH-01-CD-7620'\n",
      " 'MH-01-CD-8376' 'MH-01-CD-8678' 'MH-01-CD-8722' 'MH-01-CD-9361'\n",
      " 'MH-01-CD-9760' 'MH-01-CH-0424' 'MH-01-CH-0442' 'MH-01-CH-1171'\n",
      " 'MH01CH1340' 'MH-01-CH-1340' 'MH01CH1555' 'MH-01-CH-1555' 'MH-01-CH-1772'\n",
      " 'MH-01-CH-2138' 'MH-01-CH-3603' 'MH-01-CH-3956' 'MH-01-CH-5421'\n",
      " 'MH-01-CH-5732' 'MH-01-CH-6138' 'MH-01-CP-2422' 'MH-01-CP-4029'\n",
      " 'MH-01-CP-4853' 'MH-01-CP-5057' 'MH01CP7882' 'MH-01-CP-7882' 'MH01CP8471'\n",
      " 'MH-01-CP-8471' 'MH-01-CP-9491' 'MH-01-CQ-1323' 'MH-01-CQ-5677'\n",
      " 'MH-01-CT-0748' 'MH-01-CT-3496' 'MH-01-CT-5691' 'MH-01-CT-7133'\n",
      " 'MH-01-CT-7460' 'MH-01-CT-8311' 'MH-01-DB-1183' 'MH-01-DB-1288'\n",
      " 'MH-01-DB-3288' 'MH-01-DB-3655' 'MH01DB3814' 'MH-01-DB-3814'\n",
      " 'MH-01-DB-3984' 'MH-01-DB-5178' 'MH-01-DB-5803' 'MH-01-DB-6686'\n",
      " 'MH01DB6811' 'MH-01-DB-6811' 'MH-01-DB-6965' 'MH-01-DB-7214'\n",
      " 'MH-01-DB-7561' 'MH01DB9230' 'MH-01-DB-9230' 'MH01DB9238' 'MH-01-DB-9261'\n",
      " 'MH-01-DB-9362' 'MH01DB9520' 'MH-01-DB-9520' 'MH01DB9579' 'MH-01-DB-9579'\n",
      " 'MH-01-DE-1472' 'MH01DE2110' 'MH-01-DE-2110' 'MH-01-DE-2254'\n",
      " 'MH-01-DE-2469' 'MH01DE3974' 'MH-01-DE-3974' 'MH01DE4125' 'MH-01-DE-4125'\n",
      " 'MH-01-DE-4602' 'MH-01-DE-6997' 'MH-01-DE-7303' 'MH-01-DE-7942'\n",
      " 'MH01DE8736' 'MH-01-DE-8736' 'MH-01-DE-8824' 'MH-01-DE-8851' 'MH01DE8932'\n",
      " 'MH-01-DE-8932' 'MH01DH1555' 'MH-01-DH-1555' 'MH-01-DK-0812'\n",
      " 'MH-01-DK-2079' 'MH-01-DK-2611' 'MH-01-DK-2686' 'MH-01-DK-3739'\n",
      " 'MH-01-DK-4087' 'MH-03-CB-6188' 'MH-14-CK-2660' 'MH-14-CS-9823'\n",
      " 'MH-14-FM-2784' 'MH-15-DC-2387' 'MH-15-DS-8327' 'Mh15EX4642'\n",
      " 'MH-15-EX-4733' 'MH-15-FT-4366' 'MH47AF1555' 'MH-47-AF-1555'\n",
      " 'MHO1 CD6750' 'POOL 0003' 'POOL 0004' 'POOL 0006' 'POOL 0008' 'POOL 0010'\n",
      " 'POOL 0012' 'POOL 0014' 'POOL 0017' 'POOL 0019' 'POOL 0021' 'POOL 0022'\n",
      " 'TN01BF4928' 'TN-01-BF-4982' 'WB02AD7306' 'WB-02-AD-7306' 'WB-20-BE-7622']\n",
      "317\n"
     ]
    }
   ],
   "source": [
    "print(df['VEHICLE'].unique())\n",
    "print(df['VEHICLE'].nunique())"
   ]
  },
  {
   "cell_type": "markdown",
   "metadata": {},
   "source": [
    "# Find the total count of each data_item using value_count()"
   ]
  },
  {
   "cell_type": "code",
   "execution_count": 17,
   "metadata": {},
   "outputs": [
    {
     "name": "stdout",
     "output_type": "stream",
     "text": [
      "MH01DB9238       20\n",
      "MH 01 CH 0442    20\n",
      "MH 15 DC 2387    20\n",
      "MH 15 EX 4733    20\n",
      "MH 01 DB 5178    18\n",
      "                 ..\n",
      "MH 01 CD 5766     1\n",
      "MH-01-BS-1555     1\n",
      "MH 01 CD 6972     1\n",
      "MH-01-BU-1446     1\n",
      "MH 15 EP 1635     1\n",
      "Name: VEHICLE, Length: 317, dtype: int64\n"
     ]
    }
   ],
   "source": [
    "print(df['VEHICLE'].value_counts())"
   ]
  },
  {
   "cell_type": "markdown",
   "metadata": {},
   "source": [
    "# Plotting of graph using bar graph:-As we know that bar graph is generally used for comparision of two category in a particular column but if we have object datatype then we use to take the top 5 or 10 data_items because as we know that we if we plot all the data_item then in graph all the data_item will appear close to each other due to which analysis of data is not done properly and bars will overlap with each other and due to which we will not able to analyze the total count of any data_item and hence anlaysis will not be done clearly with bar graph for continuous variable and object type if column contains more data."
   ]
  },
  {
   "cell_type": "code",
   "execution_count": 18,
   "metadata": {},
   "outputs": [
    {
     "data": {
      "text/plain": [
       "<BarContainer object of 3 artists>"
      ]
     },
     "execution_count": 18,
     "metadata": {},
     "output_type": "execute_result"
    },
    {
     "data": {
      "image/png": "[encoded data removed]",
      "text/plain": [
       "<Figure size 432x288 with 1 Axes>"
      ]
     },
     "metadata": {
      "needs_background": "light"
     },
     "output_type": "display_data"
    }
   ],
   "source": [
    "x=[\"MH-01-DB-9238\",\"MH-01-DB-5178\",\"MH-01-CD-5766\"]\n",
    "y=[20,18,1]\n",
    "plt.xlabel('VEHICLE')\n",
    "plt.ylabel('Total_count')\n",
    "plt.bar(x,y,width =0.1,color =['red','black'])"
   ]
  },
  {
   "cell_type": "markdown",
   "metadata": {},
   "source": [
    "# Variable 4:-PTROCRD"
   ]
  },
  {
   "cell_type": "code",
   "execution_count": 19,
   "metadata": {},
   "outputs": [
    {
     "name": "stdout",
     "output_type": "stream",
     "text": [
      "['FC0013800270' 'FC0005694673' 'FC7001458720' 'FC7001458750'\n",
      " 'FC0005695027' 'FC7001937042' 'FC7001458668' 'FC0005694129'\n",
      " 'FC7001458662' 'FC7001458687' 'FC0005694160' 'FC0005694780'\n",
      " 'FC7001458648' 'FC7001458727' 'FC7001458739' 'FC0005695225'\n",
      " 'FC0005694269' 'FC0005694053' 'FC7001458651' 'FC0005695282'\n",
      " 'FC7001458699' 'FC0005695209' 'FC7001458745' 'FC7001458771'\n",
      " 'FC7001458675' 'FC0005694152' 'FC7001458671' 'FC7001909825'\n",
      " 'FC7001458773' 'FC0005694145' 'FC7001458669' 'FC0005695084'\n",
      " 'FC7001458782' 'FC0005694343' 'FC7001699080' 'FC7001458695'\n",
      " 'FC0005694863' 'FC7001458660' 'FC0005694913' 'FC0005695167'\n",
      " 'FC7001723977' 'FC7001458746' 'FC0005695217' 'FC7001458744'\n",
      " 'FC0005694087' 'FC7001484022' 'FC7001458691' 'FC7001510715'\n",
      " 'FC7001517270' 'FC0005695456' 'FC7001666392' 'FC7001458659'\n",
      " 'FC0005694285' 'FC7001567705' 'FC0005694509' 'FC7001458670'\n",
      " 'FC0005694954' 'FC7001584153' 'FC7001624450' 'FC0005694624'\n",
      " 'FC7001458663' 'FC7001458705' 'FC7001699068' 'FC0005695449'\n",
      " 'FC7001458730' 'FC0005694830' 'FC7001458766' 'FC0005695274'\n",
      " 'FC7001648458' 'FC0005695092' 'FC0005695480' 'FC7001666390'\n",
      " 'FC0005694665' 'FC7001458693' 'FC0005694574' 'FC0005695472'\n",
      " 'FC7001687675' 'FC0005695464' 'FC7001666391' 'FC0005694061'\n",
      " 'FC7001699067' 'FC0005694319' 'FC0104951362' 'FC7001702787'\n",
      " 'FC0005695316' 'FC0005694582' 'FC7001458679' 'FC0005695290'\n",
      " 'FC7001458764' 'FC0005695233' 'FC0005694293' 'FC7001716294'\n",
      " 'FC0005694541' 'FC0005694681' 'FC0005694871' 'FC7001458684'\n",
      " 'FC0005694764' 'FC7001458710' 'FC7001458774' 'FC0005694962'\n",
      " 'FC7001716293' 'FC0005694301' 'FC7001584156' 'FC0005694178'\n",
      " 'FC7001458689' 'FC7001458729' 'FC7001458683' 'FC0005694558'\n",
      " 'FC0005695381' 'FC0005694566' 'FC7001510717' 'FC0005694970'\n",
      " 'FC7001750684' 'FC7001750685' 'FC7001717676' 'FC0005694772'\n",
      " 'FC0005694905' 'FC7001755106' 'FC0005694897' 'FC7001755105'\n",
      " 'FC7001759287' 'FC0005694947' 'FC0005694640' 'FC7001458738'\n",
      " 'FC0005694806' 'FC0005694491' 'FC7001458656' 'FC7001778288'\n",
      " 'FC0005694715' 'FC0005695134' 'FC0005694392' 'FC0005694921'\n",
      " 'FC7001631766' 'FC7001778289' 'FC0005694079' 'FC7001458655'\n",
      " 'FC7001795910' 'FC0005695324' 'FC7001817679' 'FC0005695332'\n",
      " 'FC7001790594' 'FC7001464109' 'FC0005694731' 'FC0005694418'\n",
      " 'FC7001804865' 'FC0005694384' 'FC7001812572' 'FC0005694046'\n",
      " 'FC7001458734' 'FC0005695183' 'FC0005694798' 'FC7001458652'\n",
      " 'FC0005694988' 'FC7001458767' 'FC0005694889' 'FC0005694012'\n",
      " 'FC7001458785' 'FC0005695241' 'FC0006277148' 'FC0005694848'\n",
      " 'FC7001458712' 'FC0005695373' 'FC0005693998' 'FC0005695118'\n",
      " 'FC7001458799' 'FC0005695423' 'FC7001458781' 'FC0005694004'\n",
      " 'FC0005695076' 'FC7001458776' 'FC0005694244' 'FC0005694236'\n",
      " 'FC0005695415' 'FC0005694434' 'FC0005693980' 'FC0005695043'\n",
      " 'FC7001517271' 'FC0005694210' 'FC0005695407' 'FC7001458735'\n",
      " 'FC0005694038' 'FC0005694616' 'FC0005695050' 'FC0005694459'\n",
      " 'FC0005694376' 'FC7001812571' 'FC7001458723' 'FC0006276868'\n",
      " 'FC7001458714' 'FC7001458697' 'FC0005694590' 'FC7001510721'\n",
      " 'FC0005694483' 'FC7001478847' 'FC0005694277' 'FC0005695100'\n",
      " 'FC7001458786' 'FC0005695019' 'FC7001458787' 'FC0005695035'\n",
      " 'FC7001458792' 'FC7001458760' 'FC0005694723' 'FC0005694699'\n",
      " 'FC0005695365' 'FC0005694517' 'FC0005695159' 'FC0014934508'\n",
      " 'FC0005694111' 'FC0270028912' 'FC0006277189' 'FC0005694426'\n",
      " 'FC7001458677' 'FC0005694533' 'FC0005694442' 'FC0005695399'\n",
      " 'FC0005694475' 'FC0006277171' 'FC0005695126' 'FC0005695340'\n",
      " 'FC0269754700' 'FC0005694707' 'FC0014114614' 'FC7001458673'\n",
      " 'FC7001458682' 'FC7001458686' 'FC0120933618' 'FC0013800312']\n",
      "228\n"
     ]
    }
   ],
   "source": [
    "print(df['PTROCRD'].unique())\n",
    "print(df['PTROCRD'].nunique())"
   ]
  },
  {
   "cell_type": "markdown",
   "metadata": {},
   "source": [
    "# Find the total count of each data_item using value_count()"
   ]
  },
  {
   "cell_type": "code",
   "execution_count": 20,
   "metadata": {},
   "outputs": [
    {
     "name": "stdout",
     "output_type": "stream",
     "text": [
      "FC0005694954    33\n",
      "FC0005695035    32\n",
      "FC0005694277    30\n",
      "FC0005694475    30\n",
      "FC0005693980    29\n",
      "                ..\n",
      "FC7001458689     1\n",
      "FC7001458787     1\n",
      "FC7001458652     1\n",
      "FC7001723977     1\n",
      "FC7001458735     1\n",
      "Name: PTROCRD, Length: 228, dtype: int64\n"
     ]
    }
   ],
   "source": [
    "print(df['PTROCRD'].value_counts())"
   ]
  },
  {
   "cell_type": "markdown",
   "metadata": {},
   "source": [
    "# Plotting of graph using bar graph:-As we know that bar graph is generally used for comparision of two category in a particular column but if we have object datatype then we use to take the top 5 or 10 data_items because as we know that we if we plot all the data_item then in graph all the data_item will appear close to each other due to which analysis of data is not done properly and bars will overlap with each other and due to which we will not able to analyze the total count of any data_item and hence anlaysis will not be done clearly with bar graph for continuous variable and object type if column contains more data."
   ]
  },
  {
   "cell_type": "code",
   "execution_count": 21,
   "metadata": {},
   "outputs": [
    {
     "data": {
      "text/plain": [
       "<BarContainer object of 5 artists>"
      ]
     },
     "execution_count": 21,
     "metadata": {},
     "output_type": "execute_result"
    },
    {
     "data": {
      "image/png": "[encoded data removed]",
      "text/plain": [
       "<Figure size 432x288 with 1 Axes>"
      ]
     },
     "metadata": {
      "needs_background": "light"
     },
     "output_type": "display_data"
    }
   ],
   "source": [
    "x=[\"FC0005694954\",\"FC0005695035\",\"FC0005694277\",\"FC0005693980\",\"FC7001458689\"]\n",
    "y=[33,32,30,29,1]\n",
    "plt.xlabel('VEHICLE')\n",
    "plt.ylabel('TOtal_count')\n",
    "plt.bar(x,y,width =0.1,color =['red','grey'])"
   ]
  },
  {
   "cell_type": "markdown",
   "metadata": {},
   "source": [
    "# Variable 5:-EXPAMT"
   ]
  },
  {
   "cell_type": "code",
   "execution_count": 22,
   "metadata": {},
   "outputs": [
    {
     "name": "stdout",
     "output_type": "stream",
     "text": [
      "[2134.35 3715.1  3992.79 ... 1366.2  4467.25 4696.34]\n",
      "1472\n"
     ]
    }
   ],
   "source": [
    "print(df['EXPAMT'].unique())\n",
    "print(df['EXPAMT'].nunique())"
   ]
  },
  {
   "cell_type": "markdown",
   "metadata": {},
   "source": [
    "# Find the total count of each data_item using value_count()"
   ]
  },
  {
   "cell_type": "code",
   "execution_count": 23,
   "metadata": {},
   "outputs": [
    {
     "name": "stdout",
     "output_type": "stream",
     "text": [
      "3000.00    53\n",
      "5000.00    47\n",
      "4000.00    29\n",
      "2000.00    27\n",
      "4900.00    26\n",
      "           ..\n",
      "3227.71     1\n",
      "2512.33     1\n",
      "3364.76     1\n",
      "4399.87     1\n",
      "3350.15     1\n",
      "Name: EXPAMT, Length: 1472, dtype: int64\n"
     ]
    }
   ],
   "source": [
    "print(df['EXPAMT'].value_counts())"
   ]
  },
  {
   "cell_type": "markdown",
   "metadata": {},
   "source": [
    "# Plotting of graph using bar graph:-As we know that bar graph is generally used for comparision of two category in a particular column but if we have continuous variable then we use to take the top 5 or 10 data_items because as we know that we if we plot all the data_item then in graph all the data_item will appear close to each other due to which analysis of data is not done properly and bars will overlap with each other and due to which we will not able to analyze the total count of any data_item and hence anlaysis will not be done clearly with bar graph."
   ]
  },
  {
   "cell_type": "code",
   "execution_count": 26,
   "metadata": {},
   "outputs": [
    {
     "data": {
      "text/plain": [
       "<BarContainer object of 6 artists>"
      ]
     },
     "execution_count": 26,
     "metadata": {},
     "output_type": "execute_result"
    },
    {
     "data": {
      "image/png": "[encoded data removed]",
      "text/plain": [
       "<Figure size 432x288 with 1 Axes>"
      ]
     },
     "metadata": {
      "needs_background": "light"
     },
     "output_type": "display_data"
    }
   ],
   "source": [
    "x=[\"3000.00\",\"5000.00\",\"4000.00\",\"2000.00\",\"4900.00\",\"3227.71\"]\n",
    "y=[53,47,29,27,26,1]\n",
    "plt.xlabel('EXPAMT')\n",
    "plt.ylabel('Total_count')\n",
    "plt.bar(x,y,width =0.1,color =['green','blue'])"
   ]
  },
  {
   "cell_type": "markdown",
   "metadata": {},
   "source": [
    "# Variable 6:-TRANTYPE"
   ]
  },
  {
   "cell_type": "code",
   "execution_count": 27,
   "metadata": {},
   "outputs": [
    {
     "name": "stdout",
     "output_type": "stream",
     "text": [
      "['DIESEL' 'PETROL' 'HI-SPEED DIESEL' 'SPEED' nan]\n",
      "4\n"
     ]
    }
   ],
   "source": [
    "print(df['TRANTYP'].unique())\n",
    "print(df['TRANTYP'].nunique())"
   ]
  },
  {
   "cell_type": "markdown",
   "metadata": {},
   "source": [
    "# Use of groupby()"
   ]
  },
  {
   "cell_type": "code",
   "execution_count": 28,
   "metadata": {},
   "outputs": [
    {
     "name": "stdout",
     "output_type": "stream",
     "text": [
      "      EMPLOYEE           XSATRANDAT        VEHICLE       PTROCRD   EXPAMT  \\\n",
      "0     23149398  2019-05-02 00:00:00  KA 03 MU 1683  FC0013800270  2134.35   \n",
      "1     23149398  2019-05-09 00:00:00  KA 03 MU 1683  FC0013800270  3715.10   \n",
      "2     23149398  2019-07-02 00:00:00  KA 03 MU 1683  FC0013800270  3992.79   \n",
      "3     23149398  2019-07-19 00:00:00  KA 03 MU 1683  FC0013800270  4314.24   \n",
      "4     23149398  2019-08-02 00:00:00  KA 03 MU 1683  FC0013800270  4507.80   \n",
      "...        ...                  ...            ...           ...      ...   \n",
      "1949  23100962  2019-07-30 00:00:00     WB02AD7306  FC0013800312  4229.64   \n",
      "1950  23100962  9999-12-31 00:00:00     WB02AD7306  FC0013800312  1366.20   \n",
      "1951  25005101  2019-10-05 00:00:00  WB-02-AD-7306  FC0013800312  4467.25   \n",
      "1952  25005101  9999-12-31 00:00:00  WB-02-AD-7306  FC0013800312  4467.25   \n",
      "1953  23100962  2019-12-09 00:00:00  WB-20-BE-7622  FC0013800312  4696.34   \n",
      "\n",
      "     TRANTYP                         CNAME    DELCITY  AU_MOTOR  ODOMETR  \n",
      "0     DIESEL  INDIA GARAGE SERVICE STATION  Bangalore     31.00    17937  \n",
      "1     DIESEL             BENAKA ENTERPRISE  Bangalore     54.03    18590  \n",
      "2     DIESEL  INDIA GARAGE SERVICE STATION  Bangalore     60.06    19913  \n",
      "3     DIESEL  INDIA GARAGE SERVICE STATION  Bangalore     63.00    20535  \n",
      "4     DIESEL  INDIA GARAGE SERVICE STATION  Bangalore     66.00    21190  \n",
      "...      ...                           ...        ...       ...      ...  \n",
      "1949  DIESEL            SHYAMA TRADING CO.    Kolkata     62.00    62642  \n",
      "1950  DIESEL         MILAP SERVICE STATION    Kolkata     20.00    60808  \n",
      "1951  DIESEL                         CAMAC    Kolkata     64.24    63928  \n",
      "1952  DIESEL                         CAMAC    Kolkata     64.24    63928  \n",
      "1953  DIESEL                         CAMAC    Kolkata     68.66      898  \n",
      "\n",
      "[1396 rows x 10 columns]\n",
      "      EMPLOYEE           XSATRANDAT        VEHICLE       PTROCRD   EXPAMT  \\\n",
      "39    23192481  9999-12-31 00:00:00  MH 01 AH 9059  FC7001458668  4124.70   \n",
      "58    24009256  9999-12-31 00:00:00  MH 01 BB 1472  FC7001458648  3000.00   \n",
      "80      210462  9999-12-31 00:00:00  MH 01 BF 5901  FC7001458699  2454.43   \n",
      "83    23098768  9999-12-31 00:00:00  MH 01 BF 7282  FC7001458771  2564.43   \n",
      "84    23192481  9999-12-31 00:00:00  MH 01 BG 1270  FC7001458675  2297.10   \n",
      "...        ...                  ...            ...           ...      ...   \n",
      "1878    206575  2019-12-31 00:00:00  MH-14-CS-9823  FC0005694590   484.00   \n",
      "1879    206575  9999-12-31 00:00:00  MH-14-CS-9823  FC0005694590  2832.00   \n",
      "1930  23192481  9999-12-31 00:00:00      POOL 0003  FC7001458668  3000.00   \n",
      "1934  23192481  9999-12-31 00:00:00      POOL 0010  FC7001458675  1821.75   \n",
      "1938  23192481  9999-12-31 00:00:00      POOL 0019  FC7001458684  2019.27   \n",
      "\n",
      "     TRANTYP                        CNAME   DELCITY  AU_MOTOR  ODOMETR  \n",
      "39    PETROL  NEW KAMPALA SERVICE STATION    MUMBAI     55.38    16188  \n",
      "58    PETROL             SANDIP PETROLEUM  BARAMATI     34.95    17190  \n",
      "80    PETROL  NEW KAMPALA SERVICE STATION    MUMBAI     28.65      910  \n",
      "83    PETROL          OM VEDANT PETROLEUM    MUMBAI     30.20    89150  \n",
      "84    PETROL              DIPTI PETROLEUM    MUMBAI     31.00        0  \n",
      "...      ...                          ...       ...       ...      ...  \n",
      "1878  PETROL            BOMBAY PETROLEUMS    Mumbai      6.00    38729  \n",
      "1879  PETROL            BOMBAY PETROLEUMS    Mumbai     35.86        0  \n",
      "1930  PETROL    DAYARAM SANTADAS &AMP; CO    MUMBAI     41.31    13645  \n",
      "1934  PETROL  NEW KAMPALA SERVICE STATION    MUMBAI     25.00    37575  \n",
      "1938  PETROL  WORLIWAY SERVICE STATION-II    MUMBAI      0.00        0  \n",
      "\n",
      "[554 rows x 10 columns]\n",
      "     EMPLOYEE           XSATRANDAT        VEHICLE       PTROCRD  EXPAMT  \\\n",
      "160    209218  9999-12-31 00:00:00  MH 01 BU 1446  FC7001484022  2700.0   \n",
      "\n",
      "             TRANTYP                  CNAME DELCITY  AU_MOTOR  ODOMETR  \n",
      "160  HI-SPEED DIESEL  AURO PETROLEUM CENTRE  MUMBAI       0.0   100389  \n",
      "     EMPLOYEE           XSATRANDAT        VEHICLE       PTROCRD   EXPAMT  \\\n",
      "453    203380  2019-01-18 00:00:00  MH 01 CD 6991  FC7001717676  3319.21   \n",
      "458    203380  9999-12-31 00:00:00  MH 01 CD 6991  FC7001717676  3532.65   \n",
      "\n",
      "    TRANTYP          CNAME DELCITY  AU_MOTOR  ODOMETR  \n",
      "453   SPEED  UNITED MOTORS  MUMBAI     42.01        0  \n",
      "458   SPEED  UNITED MOTORS  MUMBAI     46.01    15600  \n"
     ]
    }
   ],
   "source": [
    "print(df.groupby(['TRANTYP']).get_group('DIESEL'))\n",
    "print(df.groupby(['TRANTYP']).get_group('PETROL'))\n",
    "print(df.groupby(['TRANTYP']).get_group('HI-SPEED DIESEL'))\n",
    "print(df.groupby(['TRANTYP']).get_group('SPEED'))"
   ]
  },
  {
   "cell_type": "markdown",
   "metadata": {},
   "source": [
    "# Find the total count of each data_item using value_count()"
   ]
  },
  {
   "cell_type": "code",
   "execution_count": 29,
   "metadata": {},
   "outputs": [
    {
     "name": "stdout",
     "output_type": "stream",
     "text": [
      "DIESEL             1396\n",
      "PETROL              554\n",
      "SPEED                 2\n",
      "HI-SPEED DIESEL       1\n",
      "Name: TRANTYP, dtype: int64\n"
     ]
    }
   ],
   "source": [
    "print(df['TRANTYP'].value_counts())"
   ]
  },
  {
   "cell_type": "markdown",
   "metadata": {},
   "source": [
    "# Plotting of graph using bar graph:-Here we could see that we have data_item values as pure string and as dataset contain less unique value so values will not appear closer to each other due to which we can easily find out the total count of each unique value and by that we can easily differentiate each unique value and hence proper analysis would be done easily."
   ]
  },
  {
   "cell_type": "markdown",
   "metadata": {},
   "source": [
    "# Here we could see that in hi-speed diesel and in speed unique value the gap between data range on y-Axis is about 200 and due to which hi-speed diesel has 2 as value count and speed has 1 as value count and due to which color with bar can't be shown due to very minute and small total count."
   ]
  },
  {
   "cell_type": "code",
   "execution_count": 34,
   "metadata": {},
   "outputs": [
    {
     "name": "stdout",
     "output_type": "stream",
     "text": [
      "AxesSubplot(0.125,0.125;0.775x0.755)\n",
      "Text(0.5, 0, 'TRANTYP')\n"
     ]
    },
    {
     "data": {
      "image/png": "[encoded data removed]",
      "text/plain": [
       "<Figure size 432x288 with 1 Axes>"
      ]
     },
     "metadata": {
      "needs_background": "light"
     },
     "output_type": "display_data"
    }
   ],
   "source": [
    "print(df['TRANTYP'].value_counts().plot(kind ='bar',width =0.1,color =['black','grey']))\n",
    "print(plt.xlabel('TRANTYP'))"
   ]
  },
  {
   "cell_type": "markdown",
   "metadata": {},
   "source": [
    "# Variable 7:- CNAME"
   ]
  },
  {
   "cell_type": "code",
   "execution_count": 35,
   "metadata": {},
   "outputs": [
    {
     "name": "stdout",
     "output_type": "stream",
     "text": [
      "['INDIA GARAGE SERVICE STATION' 'BENAKA ENTERPRISE' 'MJV SERVICE'\n",
      " 'JCPL FUEL STATION' 'MJV SERVICES WHITEFILED BANGAL' 'LIBERTY AUTO'\n",
      " 'PKP NAIR' 'P K PARAMESWARAN NAIR' 'NEW KAMPALA SERVICE STATION'\n",
      " 'NOBLE MOTORS' 'NEW KAMPALA S. STATION' 'UNITED MOTORS INDIA PVT LTD.'\n",
      " 'WORLIWAY SERVICE STATION A/C P' 'WORLIWAY SERVICE STATION-II'\n",
      " 'SHUBAM PETROL DEPOT (ADHOC)' 'RAVI AUTO SERVICES' 'VADGAON PETROLEUM'\n",
      " 'SANDIP PETROLEUM' 'BP COCO EXPRESS WAY' 'OM VEDANT PETROLEUM'\n",
      " 'BP-BANDRA KURLA COMPLEX' 'GATEWAY AUTO SERVICE' 'DIPTI PETROLEUM'\n",
      " 'FAMOUS AUTO SERVICE STATION' 'BHARUCHA AUTO SERVICE'\n",
      " 'PATEL AUTOMOBILES_2' 'SAHYADRI SERVICE STATION' 'V.V.VARDE'\n",
      " 'BOMBAY PETROLEUMS' 'AMAR AUTOMOBILES (A/C MAHESHWA'\n",
      " 'VIKHROLI AUTOMOBILES' 'BP KANDIVALI' 'UNITED MOTORS'\n",
      " 'DAYARAM SANTDAS & CO' 'DAYARAM SANTADAS &AMP CO' 'SHRADHA PETROL PUMP'\n",
      " 'MANGALYAM PETROLEUM' 'ROHIT PETROLEUM SERVICE' 'ROSHANI SERVICES'\n",
      " 'AURO PETROLEUM CENTRE' 'RADIANT PETROLEUM PROD.PVT.LTD'\n",
      " 'KAUSAR AUTO SERVICE' 'JAIHIND HIGHWAY SERVICE STATIO' 'PARK GARAGE'\n",
      " 'VARDAAN FUEL STATION' 'BORIVALI  PETROL SUPPLY CO' 'KENIA AUTOMOBILES'\n",
      " 'SHETKARI SAHKARI SANGH LIMITED' 'UGANDA SERVICE STATION'\n",
      " 'KAKA AUTOMOBILES' 'TAXIMENS SERVICES' 'SIDDHIVINAYAK FUEL CENTRE'\n",
      " 'BP-BKC' 'GATEWAY  AUTO SERVICES' 'PETROLEUM & MINERALS PVT LTD A'\n",
      " 'PETROLEUM &AMP MINERALS (T) (T' 'DESAI AUTO SERVICE'\n",
      " 'VISHRAM SERVICE CENTRE' 'BAHRI AUTO SERVICE' 'BORIVALI PETROL SUPPLY'\n",
      " 'ADARSH SERVICE STATION' 'NEW KAMPALA S. STATION ADHOC'\n",
      " 'LAKHBIR AUTOMOBILES' 'PATEL AUTOMOBILESA/C GOREGAON' 'BOMBAY PETROLEUM'\n",
      " 'NEW KAMPALA S STATION' 'NEW BOMBAY AUTO SUPPLY CO'\n",
      " 'TAXIMENS SERVICES LTD. (A/C BA' 'TAXIMAN SERVICES LTD'\n",
      " 'BAJRANG AUTO SERVICE' 'GURUNANAK AUTOMOBILES A/C ANDH'\n",
      " 'GURUNANAK AUTOMOBILESA/C ANDHE' 'SINGH ROADLINES' 'BP CHURCHGATE'\n",
      " 'EXPRESS PETROLEUM COLABA' 'LIBERTY  AUTOMOBILES' 'MOHANISH AUTO CENTRE'\n",
      " 'GANESH AUTOMOBILES' 'J.K.& SONS' 'NOBLE MOTORS SERVICE'\n",
      " 'GILL AUTO SERVICE' 'MANHAS AUTO SERVICE' 'TAJ AUTOMOBILES'\n",
      " 'R.N.GUPTA BROTHERS & SONS' 'SETHI AUTOMOBILES' 'R.M. CHOUBE & SONS'\n",
      " 'PRAKASH AUTOMOBILES A/C JVPD' 'PRAKASH AUTOMOBILES_2'\n",
      " 'SHAHEED BAPURAO DHURGUDE AUTOW' 'SATGURU AUTOMOBILES (A/C WADAL'\n",
      " 'SATGURU AUTOMOBILES' 'CHHEDA SERVICE STATION' 'DAULAT AUTOMOBILES'\n",
      " 'MAHAVIR AUTO' 'SHETTY AUTO SERVICE' 'BRIGHT STAR SERVICES'\n",
      " 'HIGHWAY AUTOMOBILES GHATKOPAR' 'LAD BANDHU SERVICE' 'LAXMI TRADERS'\n",
      " 'SHREE SIDDHIVINAYAK_EWAY' 'GOREGAON PETROL SUPPLY CO'\n",
      " 'CHARKOP PETROLEUM' 'SUPRABHAT TRANSPORT COMP' 'EXPRESS SERVICES QR'\n",
      " 'UNIVERSAL SERVICE CENTRE' 'SM FILLING CENTRE'\n",
      " 'MASTAKAR AUTO SERVICE STN.' 'NEW BOMBAY AUTO SUPPLY'\n",
      " 'SHRI SIDDIVINAYAK E-WAY' 'NITIRAJ  SERVICE  CENTRE' 'BP-EXPRESS HIGHWAY'\n",
      " 'SELECT AUTOMOBILES' 'DAHISAR SERVICE STATON'\n",
      " 'J.SINGH BROTHERS. (A/C GP RD)' 'MEERA PETROLEUM' 'UNIVERSAL MOTORS'\n",
      " 'ROHIT ENTERPRISES' 'GAYATRI  SEVA' 'DAHISAR SERVICE STATION'\n",
      " 'PRAKASH AUTOMOBILESA/C JVPD' 'JAIMAL SINGH AUTO' 'SAI SHIVRAM PETROLEUM'\n",
      " 'SHUBAM  PETROL DEPOT' 'LAXMI AUTOMOBILES' 'BP KHARGHAR 2'\n",
      " 'OM SERVICE STATION' 'VINOD AUTOMOBILES' 'BP-PADGA'\n",
      " 'RAJLAXMI SERVICE CENTRE' 'VINOD AUTOS' 'J.B. PATEL& CO(A/C MAMA P RD)'\n",
      " 'J.B.PATEL &AMP CO ( QUEENS RD)' 'DASMESH ENTERPRISE'\n",
      " 'ASHTAVINAYAK PETRO' 'OM SERVICE STN.' 'SHEVANTAI PETROLEUM' 'M.R.RATHI'\n",
      " 'C.R.CONTRACTOR' 'ROHIT PETROLEUM' 'NAMRATA PETROLEUM'\n",
      " 'MASTAKAR AUTO SERVICE STN' 'RAVI PETROLEUM' 'DESAI & COMPANY NIRA'\n",
      " 'JAY SHAMBHO PETROLEUM' 'UNITED MOTORS INDIA PVT LTD'\n",
      " 'T.R.SUBRAMANIAM&BROR' 'NEW KAMPALA S  STATION' 'GLOBAL PETROLEUM'\n",
      " 'RADIANT PETROLEUM PRODUCTS PVT' 'DATTA AUTOMOBILES'\n",
      " 'OM SIDDHESHWARI FUEL WORLD' 'VARMA AUTOMOBILES' 'BHARAT FUEL CENTER'\n",
      " 'AIROLI SERVICE CENTRE' 'VIJAY AUTOMOBILES' 'DIGGAJ FUELS'\n",
      " 'SARDAR GRAHAK SAHAKARI BHANDAR' 'BHAVDEEP PETROLEUM'\n",
      " 'SHRI BHAVESHWAR PETROLEUM' 'SHRI SAI PETROLEUM' 'AVADHUT PETROLEUM'\n",
      " 'SREE VENKATESHWARA SERVICE STA' 'AMMAN AGENCIS' 'TRIMURTI PETROLEUM'\n",
      " 'S.N. BURYE FILLING STATION' 'MOHIDIN AUTO CARE CENTRE'\n",
      " 'HARIOM PETROLEUM' 'ICHAMANI CONSTRUCTION & CO' 'M.R.CHOPADA'\n",
      " 'OM SAMARTH PETROLEUM' 'KRISHNAI PETROCHEMICALS' 'V V VARDE'\n",
      " 'SIDHARTH AGENCIES' 'ANAND HIGHWAY SERVICES' 'H.L.DHATRAK & SONS'\n",
      " 'NATIONAL PETROL CO ( A/C DADAR' 'BASSEIN PETROL SUPPLY CO'\n",
      " 'ANANT FILLING STATION' 'SAKSHAM MOTORS' 'USHA HIGHWAY FILLING STATION'\n",
      " 'AKASHI FILLING STATION' 'SURENDRA & CO' 'J.SINGH BROTHERS  (A/C GP RD)'\n",
      " 'TAXIMENS SERVICES LTD (A/C BAN' 'SWAGAT PETROLEUM'\n",
      " 'ABHISHEK SRVICE CENTRE' 'SARDAR AUTOMOBILES' 'SHIRDHON SERVICE STATION'\n",
      " 'SHREE LAXMINARAYAN PETROLINKS' 'BP KALAMBOLI 2' 'BP- SANPADA'\n",
      " 'SHIV SHAKTI PETROLEUM' 'VIJAYBHARAT PETROLEUM' 'DASHMESH AUTOMOBILES'\n",
      " 'EXPRESS PETRO SERVICES DAPODI' 'BP KELEWADE' 'HUTATMA RAJGURU SERVICES'\n",
      " 'SHRI NAGESHWAR PETROLEUM' 'K.B. LAHOTI  SANGAMNER'\n",
      " 'DAYARAM SANTADAS &AMP; CO' 'BP-VELACHERY' 'KOHINOOR'\n",
      " 'MADRAS CITY LORRY OWNERS ASSOC' 'CAMAC' 'SHYAMA TRADING CO.'\n",
      " 'MILAP SERVICE STATION']\n",
      "206\n"
     ]
    }
   ],
   "source": [
    "print(df['CNAME'].unique())\n",
    "print(df['CNAME'].nunique())"
   ]
  },
  {
   "cell_type": "markdown",
   "metadata": {},
   "source": [
    "# Find the total count of each data_item using value_count()"
   ]
  },
  {
   "cell_type": "code",
   "execution_count": 37,
   "metadata": {},
   "outputs": [
    {
     "name": "stdout",
     "output_type": "stream",
     "text": [
      "WORLIWAY SERVICE STATION A/C P    426\n",
      "RAVI AUTO SERVICES                108\n",
      "GATEWAY  AUTO SERVICES             84\n",
      "NOBLE MOTORS                       68\n",
      "ADARSH SERVICE STATION             68\n",
      "                                 ... \n",
      "AKASHI FILLING STATION              1\n",
      "SETHI AUTOMOBILES                   1\n",
      "C.R.CONTRACTOR                      1\n",
      "KRISHNAI PETROCHEMICALS             1\n",
      "KOHINOOR                            1\n",
      "Name: CNAME, Length: 206, dtype: int64\n"
     ]
    }
   ],
   "source": [
    "print(df['CNAME'].value_counts())"
   ]
  },
  {
   "cell_type": "markdown",
   "metadata": {},
   "source": [
    "# Plotting of graph using bar graph:-As we know that bar graph is generally used for comparision of two category in a particular column but if we have continuous variable then we use to take the top 5 or 10 data_items because as we know that we if we plot all the data_item then in graph all the data_item will appear close to each other due to which analysis of data is not done properly and bars will overlap with each other and due to which we will not able to analyze the total count of any data_item and hence anlaysis will not be done clearly with bar graph."
   ]
  },
  {
   "cell_type": "code",
   "execution_count": 43,
   "metadata": {},
   "outputs": [
    {
     "data": {
      "text/plain": [
       "<BarContainer object of 6 artists>"
      ]
     },
     "execution_count": 43,
     "metadata": {},
     "output_type": "execute_result"
    },
    {
     "data": {
      "image/png": "[encoded data removed]",
      "text/plain": [
       "<Figure size 432x288 with 1 Axes>"
      ]
     },
     "metadata": {
      "needs_background": "light"
     },
     "output_type": "display_data"
    }
   ],
   "source": [
    "x=[\"WORLIWAY\",\"RAVIAU\",\"GATEWAYAU\",\"NOBLE\",\"ADARSHSERV\",\"AKASHI\"]\n",
    "Y=[108,84,68,68,1]\n",
    "plt.xlabel('CNAME')\n",
    "plt.ylabel('Total_count')\n",
    "plt.bar(x,y,width =0.1,color =['blue','yellow'])"
   ]
  },
  {
   "cell_type": "markdown",
   "metadata": {},
   "source": [
    "# Variable 8:-DELCITY"
   ]
  },
  {
   "cell_type": "code",
   "execution_count": 44,
   "metadata": {},
   "outputs": [
    {
     "name": "stdout",
     "output_type": "stream",
     "text": [
      "['Bangalore' 'Kanchipuram' 'BANGALORE' 'MUMBAI' 'Thiruvananthapuram'\n",
      " 'TRIVANDRUM' 'Mumbai' 'Pune' 'KOLHAPUR' 'BARAMATI' 'PUNE' 'Belgaum'\n",
      " 'Nashik' 'Raigarh' 'THANE' 'VASAI' 'Burhanpur' 'Thane' 'Jalgaon'\n",
      " 'RATNAGIRI' 'PUNAWALE - TAL. MULSHI' 'Satara' 'Ahmednagar' 'NASHIK'\n",
      " 'Ahmedabad' 'Vellore' 'Surat' 'Udaipur' 'Vadodara' 'Rajkot' 'KUTCH'\n",
      " 'Valsad' 'Madurai' 'North Goa' 'South Goa' 'South Delhi' 'Faridabad'\n",
      " 'Gurgaon' 'Sirohi' 'SINDHUDURG' 'Chennai' 'Kolkata']\n",
      "42\n"
     ]
    }
   ],
   "source": [
    "print(df['DELCITY'].unique())\n",
    "print(df['DELCITY'].nunique())"
   ]
  },
  {
   "cell_type": "markdown",
   "metadata": {},
   "source": [
    "# Find the total count of each data_item using value_count()"
   ]
  },
  {
   "cell_type": "code",
   "execution_count": 45,
   "metadata": {},
   "outputs": [
    {
     "name": "stdout",
     "output_type": "stream",
     "text": [
      "Mumbai                    1528\n",
      "MUMBAI                     114\n",
      "Nashik                      83\n",
      "Thane                       75\n",
      "Pune                        45\n",
      "Bangalore                   24\n",
      "Thiruvananthapuram          12\n",
      "Kolkata                      7\n",
      "Chennai                      6\n",
      "THANE                        6\n",
      "Raigarh                      5\n",
      "Satara                       5\n",
      "Belgaum                      3\n",
      "KOLHAPUR                     3\n",
      "NASHIK                       3\n",
      "South Goa                    2\n",
      "BANGALORE                    2\n",
      "Udaipur                      2\n",
      "Ahmednagar                   2\n",
      "PUNE                         2\n",
      "Ahmedabad                    2\n",
      "RATNAGIRI                    2\n",
      "Surat                        2\n",
      "PUNAWALE - TAL. MULSHI       1\n",
      "Sirohi                       1\n",
      "VASAI                        1\n",
      "Rajkot                       1\n",
      "North Goa                    1\n",
      "Vellore                      1\n",
      "TRIVANDRUM                   1\n",
      "Vadodara                     1\n",
      "SINDHUDURG                   1\n",
      "BARAMATI                     1\n",
      "KUTCH                        1\n",
      "Gurgaon                      1\n",
      "Kanchipuram                  1\n",
      "Faridabad                    1\n",
      "Madurai                      1\n",
      "Valsad                       1\n",
      "South Delhi                  1\n",
      "Burhanpur                    1\n",
      "Jalgaon                      1\n",
      "Name: DELCITY, dtype: int64\n"
     ]
    }
   ],
   "source": [
    "print(df['DELCITY'].value_counts())"
   ]
  },
  {
   "cell_type": "markdown",
   "metadata": {},
   "source": [
    "# Plotting of graph using bar graph:-As we know that bar graph is generally used for comparision of two category in a particular column but if we have pure string then also we use to take the top 5 or 10 data_items because as we know that we if we plot all the data_item then in graph all the data_item will appear close to each other due to which analysis of data is not done properly and bars will overlap with each other and due to which we will not able to analyze the total count of any data_item and hence anlaysis will not be done clearly with bar graph."
   ]
  },
  {
   "cell_type": "code",
   "execution_count": 52,
   "metadata": {},
   "outputs": [
    {
     "data": {
      "text/plain": [
       "<BarContainer object of 7 artists>"
      ]
     },
     "execution_count": 52,
     "metadata": {},
     "output_type": "execute_result"
    },
    {
     "data": {
      "image/png": "[encoded data removed]",
      "text/plain": [
       "<Figure size 432x288 with 1 Axes>"
      ]
     },
     "metadata": {
      "needs_background": "light"
     },
     "output_type": "display_data"
    }
   ],
   "source": [
    "x=[\"Mumbai\", \"MUMBAI\" , \"Nashik\" , \"Thane\" , \"Pune\" , \"Bangalore\" , \"THIRU\"]\n",
    "y=[1528,114,83,75,45,24,12]\n",
    "plt.xlabel('DELCITY')\n",
    "plt.ylabel('Total_count')\n",
    "plt.bar(x,y,width =0.3,color =['red','blue'])"
   ]
  },
  {
   "cell_type": "markdown",
   "metadata": {},
   "source": [
    "# Variable 9:-AU_MOTOR"
   ]
  },
  {
   "cell_type": "code",
   "execution_count": 54,
   "metadata": {},
   "outputs": [
    {
     "name": "stdout",
     "output_type": "stream",
     "text": [
      "[31.   54.03 60.06 ... 58.04 64.24 68.66]\n",
      "1387\n"
     ]
    }
   ],
   "source": [
    "print(df['AU_MOTOR'].unique())\n",
    "print(df['AU_MOTOR'].nunique())"
   ]
  },
  {
   "cell_type": "markdown",
   "metadata": {},
   "source": [
    "# Find the total count of each data_item using value_count()"
   ]
  },
  {
   "cell_type": "code",
   "execution_count": 55,
   "metadata": {},
   "outputs": [
    {
     "name": "stdout",
     "output_type": "stream",
     "text": [
      "30.00    42\n",
      "40.00    21\n",
      "50.00    18\n",
      "45.00    16\n",
      "35.00    14\n",
      "         ..\n",
      "61.34     1\n",
      "36.50     1\n",
      "45.67     1\n",
      "43.39     1\n",
      "25.03     1\n",
      "Name: AU_MOTOR, Length: 1387, dtype: int64\n"
     ]
    }
   ],
   "source": [
    "print(df['AU_MOTOR'].value_counts())"
   ]
  },
  {
   "cell_type": "markdown",
   "metadata": {},
   "source": [
    "# Plotting of graph using bar graph:-As we know that bar graph is generally used for comparision of two category in a particular column but if we have continuous variable then we use to take the top 5 or 10 data_items because as we know that we if we plot all the data_item then in graph all the data_item will appear close to each other due to which analysis of data is not done properly and bars will overlap with each other and due to which we will not able to analyze the total count of any data_item and hence anlaysis will not be done clearly with bar graph."
   ]
  },
  {
   "cell_type": "code",
   "execution_count": 56,
   "metadata": {},
   "outputs": [
    {
     "data": {
      "text/plain": [
       "<BarContainer object of 6 artists>"
      ]
     },
     "execution_count": 56,
     "metadata": {},
     "output_type": "execute_result"
    },
    {
     "data": {
      "image/png": "[encoded data removed]",
      "text/plain": [
       "<Figure size 432x288 with 1 Axes>"
      ]
     },
     "metadata": {
      "needs_background": "light"
     },
     "output_type": "display_data"
    }
   ],
   "source": [
    "x=[\"30.00\",\"40.00\",\"50.00\",\"45.00\",\"35.00\",\"61.34\"]\n",
    "y=[42,21,18,16,14,1]\n",
    "plt.xlabel('AU_MOTOR')\n",
    "plt.ylabel('Total_count')\n",
    "plt.bar(x,y,width =0.2,color =['blue','green'])"
   ]
  },
  {
   "cell_type": "markdown",
   "metadata": {},
   "source": [
    "# Variable 10:-ODOMETR"
   ]
  },
  {
   "cell_type": "code",
   "execution_count": 57,
   "metadata": {},
   "outputs": [
    {
     "name": "stdout",
     "output_type": "stream",
     "text": [
      "[17937 18590 19913 ... 60808 63928   898]\n",
      "1749\n"
     ]
    }
   ],
   "source": [
    "print(df['ODOMETR'].unique())\n",
    "print(df['ODOMETR'].nunique())"
   ]
  },
  {
   "cell_type": "markdown",
   "metadata": {},
   "source": [
    "# Find the total count of each data_item using value_count()"
   ]
  },
  {
   "cell_type": "code",
   "execution_count": 58,
   "metadata": {},
   "outputs": [
    {
     "name": "stdout",
     "output_type": "stream",
     "text": [
      "0        51\n",
      "1        23\n",
      "12        9\n",
      "11        6\n",
      "1234      5\n",
      "         ..\n",
      "27674     1\n",
      "70339     1\n",
      "37575     1\n",
      "11777     1\n",
      "75775     1\n",
      "Name: ODOMETR, Length: 1749, dtype: int64\n"
     ]
    }
   ],
   "source": [
    "print(df['ODOMETR'].value_counts())"
   ]
  },
  {
   "cell_type": "markdown",
   "metadata": {},
   "source": [
    "# Plotting of graph using bar graph:-As we know that bar graph is generally used for comparision of two category in a particular column but if we have continuous variable then we use to take the top 5 or 10 data_items because as we know that we if we plot all the data_item then in graph all the data_item will appear close to each other due to which analysis of data is not done properly and bars will overlap with each other and due to which we will not able to analyze the total count of any data_item and hence anlaysis will not be done clearly with bar graph."
   ]
  },
  {
   "cell_type": "code",
   "execution_count": 60,
   "metadata": {},
   "outputs": [
    {
     "data": {
      "text/plain": [
       "<BarContainer object of 6 artists>"
      ]
     },
     "execution_count": 60,
     "metadata": {},
     "output_type": "execute_result"
    },
    {
     "data": {
      "image/png": "[encoded data removed]",
      "text/plain": [
       "<Figure size 432x288 with 1 Axes>"
      ]
     },
     "metadata": {
      "needs_background": "light"
     },
     "output_type": "display_data"
    }
   ],
   "source": [
    "x=[\"0\",\"1\",\"12\",\"11\",\"1234\",\"27674\"]\n",
    "y=[51,23,9,6,5,1]\n",
    "plt.xlabel('ODOMETR')\n",
    "plt.ylabel('Total_count')\n",
    "plt.bar(x,y,width =0.2,color =['red','black'])"
   ]
  },
  {
   "cell_type": "code",
   "execution_count": null,
   "metadata": {},
   "outputs": [],
   "source": []
  }
 ],
 "metadata": {
  "kernelspec": {
   "display_name": "Python 3",
   "language": "python",
   "name": "python3"
  },
  "language_info": {
   "codemirror_mode": {
    "name": "ipython",
    "version": 3
   },
   "file_extension": ".py",
   "mimetype": "text/x-python",
   "name": "python",
   "nbconvert_exporter": "python",
   "pygments_lexer": "ipython3",
   "version": "3.7.6"
  }
 },
 "nbformat": 4,
 "nbformat_minor": 4
}
