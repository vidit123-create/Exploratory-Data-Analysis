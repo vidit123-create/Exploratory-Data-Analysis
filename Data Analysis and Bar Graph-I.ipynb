{
 "cells": [
  {
   "cell_type": "markdown",
   "metadata": {},
   "source": [
    "# Master.xlsx Dataset"
   ]
  },
  {
   "cell_type": "markdown",
   "metadata": {},
   "source": [
    "# Import libraries"
   ]
  },
  {
   "cell_type": "code",
   "execution_count": 2,
   "metadata": {},
   "outputs": [],
   "source": [
    "import pandas as pd\n",
    "import matplotlib.pyplot as plt\n",
    "import seaborn as sns"
   ]
  },
  {
   "cell_type": "markdown",
   "metadata": {},
   "source": [
    "# Import dataset"
   ]
  },
  {
   "cell_type": "code",
   "execution_count": 4,
   "metadata": {},
   "outputs": [
    {
     "name": "stdout",
     "output_type": "stream",
     "text": [
      "    PETRO CARD NO  TOKEN ID     VEHICLE NO           MODEL TRANSMISSION  \\\n",
      "0    FC0108719559    203505  DL-8C-AU-2787         XUV 5OO    AUTOMATIC   \n",
      "1    FC0026782069  25005101  DL-8C-AY-0922         XUV 5OO       MANUAL   \n",
      "2    FC0005694996    211187  DL-8C-AY-5677  ALTURAS G4 AWD    AUTOMATIC   \n",
      "3    FC0273416064    211187  DL-8C-AY-5677  ALTURAS G4 AWD    AUTOMATIC   \n",
      "4    FC0005694749  25000421      GENERATOR             NaN          NaN   \n",
      "..            ...       ...            ...             ...          ...   \n",
      "142  FC0013800312  23100962  WB-20-BE-7622         XUV 5OO       MANUAL   \n",
      "143  FC0005694129  23192481  MH-01-AL-2011            XYLO          NaN   \n",
      "144  FC0280132431  23148746  MH-01-DK-7948         XUV 5OO          NaN   \n",
      "145  FC0280132399  23137649  MH-01-DK-7943         XUV 5OO          NaN   \n",
      "146  FC0278695431  23157934  MH-02-EP-6122  MARUTI CELERIO          NaN   \n",
      "\n",
      "       FUEL  STATUS  \n",
      "0    DIESEL  ACTIVE  \n",
      "1    DIESEL  ACTIVE  \n",
      "2    DIESEL  ACTIVE  \n",
      "3    DIESEL  ACTIVE  \n",
      "4    DIESEL  ACTIVE  \n",
      "..      ...     ...  \n",
      "142  DIESEL  ACTIVE  \n",
      "143  DIESEL  ACTIVE  \n",
      "144  DIESEL  ACTIVE  \n",
      "145  DIESEL  ACTIVE  \n",
      "146  PETROL  ACTIVE  \n",
      "\n",
      "[147 rows x 7 columns]\n"
     ]
    }
   ],
   "source": [
    "df=pd.read_excel('C:\\\\Users\\\\arpit\\\\Downloads\\\\Master.xlsx')\n",
    "print(df)"
   ]
  },
  {
   "cell_type": "markdown",
   "metadata": {},
   "source": [
    "# Identification of variable:-As we know Master.xlsx dataset contains both numerical and categorical variable with first six column as Independent variable and last column as Dependent variable."
   ]
  },
  {
   "cell_type": "markdown",
   "metadata": {},
   "source": [
    "# Identification of datatype"
   ]
  },
  {
   "cell_type": "code",
   "execution_count": 45,
   "metadata": {},
   "outputs": [
    {
     "name": "stdout",
     "output_type": "stream",
     "text": [
      "PETRO CARD NO    object\n",
      "TOKEN ID          int64\n",
      "VEHICLE NO       object\n",
      "MODEL            object\n",
      "TRANSMISSION     object\n",
      "FUEL             object\n",
      "STATUS           object\n",
      "dtype: object\n"
     ]
    }
   ],
   "source": [
    "print(df.dtypes)"
   ]
  },
  {
   "cell_type": "markdown",
   "metadata": {},
   "source": [
    "# Identification of Size for dataset"
   ]
  },
  {
   "cell_type": "code",
   "execution_count": 46,
   "metadata": {},
   "outputs": [
    {
     "name": "stdout",
     "output_type": "stream",
     "text": [
      "(147, 7)\n"
     ]
    }
   ],
   "source": [
    "print(df.shape)"
   ]
  },
  {
   "cell_type": "markdown",
   "metadata": {},
   "source": [
    "# Identification of Stats for dataset"
   ]
  },
  {
   "cell_type": "code",
   "execution_count": 47,
   "metadata": {},
   "outputs": [
    {
     "name": "stdout",
     "output_type": "stream",
     "text": [
      "           TOKEN ID\n",
      "count  1.470000e+02\n",
      "mean   1.390835e+07\n",
      "std    1.139847e+07\n",
      "min    2.000250e+05\n",
      "25%    2.082200e+05\n",
      "50%    2.309664e+07\n",
      "75%    2.319248e+07\n",
      "max    2.500510e+07\n"
     ]
    }
   ],
   "source": [
    "print(df.describe())"
   ]
  },
  {
   "cell_type": "markdown",
   "metadata": {},
   "source": [
    "# Find out the missing value in the dataset"
   ]
  },
  {
   "cell_type": "code",
   "execution_count": 48,
   "metadata": {},
   "outputs": [
    {
     "name": "stdout",
     "output_type": "stream",
     "text": [
      "PETRO CARD NO    0\n",
      "TOKEN ID         0\n",
      "VEHICLE NO       1\n",
      "MODEL            3\n",
      "TRANSMISSION     7\n",
      "FUEL             0\n",
      "STATUS           0\n",
      "dtype: int64\n"
     ]
    }
   ],
   "source": [
    "print(df.apply(lambda x: sum(x.isnull()),axis=0))"
   ]
  },
  {
   "cell_type": "markdown",
   "metadata": {},
   "source": [
    "# Bi-Variate Analysis:-"
   ]
  },
  {
   "cell_type": "markdown",
   "metadata": {},
   "source": [
    "# Variable 1:-PETROCARDNO:Here we could see we have 147 unique values in this column."
   ]
  },
  {
   "cell_type": "code",
   "execution_count": 50,
   "metadata": {},
   "outputs": [
    {
     "name": "stdout",
     "output_type": "stream",
     "text": [
      "['FC0108719559' 'FC0026782069' 'FC0005694996' 'FC0273416064'\n",
      " 'FC0005694749' 'FC0005695431' 'FC0005694673' 'FC0013800270'\n",
      " 'FC0005695027' 'FC0005694137' 'FC7005694129' 'FC0005694160'\n",
      " 'FC0005694269' 'FC0005695282' 'FC0005695159' 'FC0005695209'\n",
      " 'FC0014934508' 'FC0005694343' 'FC0005694863' 'FC0005695217'\n",
      " 'FC0005694699' 'FC0005694087' 'FC0005694285' 'FC0005694624'\n",
      " 'FC0005695084' 'FC0005694152' 'FC0005695480' 'FC0005694574'\n",
      " 'FC0005695472' 'FC0005695464' 'FC0005694061' 'FC0005694319'\n",
      " 'FC0005695316' 'FC0005694582' 'FC0005695290' 'FC0005695233'\n",
      " 'FC0005694541' 'FC0006277189' 'FC0005694871' 'FC0005694764'\n",
      " 'FC0005694962' 'FC0005694301' 'FC0005694178' 'FC0005694558'\n",
      " 'FC0005694681' 'FC0005694566' 'FC0005694970' 'FC0005694772'\n",
      " 'FC0005694905' 'FC0005694897' 'FC0005694400' 'FC0005694947'\n",
      " 'FC0005694145' 'FC0005694640' 'FC0005694806' 'FC0005694715'\n",
      " 'FC0005695134' 'FC0005694392' 'FC0005694079' 'FC0005694426'\n",
      " 'FC0005695324' 'FC0005695332' 'FC0005694731' 'FC0005694418'\n",
      " 'FC0005695365' 'FC0005694384' 'FC0005694046' 'FC0005694376'\n",
      " 'FC0005694798' 'FC0005694988' 'FC0005694889' 'FC0005694012'\n",
      " 'FC0005694442' 'FC0005695241' 'FC0006277148' 'FC0005694665'\n",
      " 'FC0005694103' 'FC0005695373' 'FC0005693998' 'FC0005694509'\n",
      " 'FC0005695118' 'FC0005694848' 'FC0005695381' 'FC0005694533'\n",
      " 'FC0005694004' 'FC0005695076' 'FC0005694244' 'FC0062016950'\n",
      " 'FC0005694236' 'FC0005695415' 'FC0005694434' 'FC0005694921'\n",
      " 'FC0005693980' 'FC0005695043' 'FC0005694210' 'FC0005695399'\n",
      " 'FC0005695225' 'FC0005694020' 'FC0005695407' 'FC0005694038'\n",
      " 'FC0005694475' 'FC0005694491' 'FC0005694616' 'FC0006277171'\n",
      " 'FC0005694111' 'FC0005694780' 'FC0005695126' 'FC0005695050'\n",
      " 'FC0005695340' 'FC0005695183' 'FC0005695449' 'FC0005694459'\n",
      " 'FC0005694913' 'FC0005695274' 'FC0005695167' 'FC0269754700'\n",
      " 'FC0005694954' 'FC0005695423' 'FC0005694707' 'FC0272414920'\n",
      " 'FC0005694293' 'FC0273929587' 'FC0005695092' 'FC0005694830'\n",
      " 'FC0005694053' 'FC0005695019' 'FC0005695456' 'FC0273372572'\n",
      " 'FC0273368174' 'FC0104951362' 'FC0270028912' 'FC0006276868'\n",
      " 'FC0005694590' 'FC0005694483' 'FC0005695100' 'FC0005694277'\n",
      " 'FC0005695035' 'FC0005694723' 'FC0014114614' 'FC0272231423'\n",
      " 'FC0005694517' 'FC0120933618' 'FC0013800312' 'FC0005694129'\n",
      " 'FC0280132431' 'FC0280132399' 'FC0278695431']\n",
      "147\n"
     ]
    }
   ],
   "source": [
    "print(df['PETRO CARD NO'].unique())\n",
    "print(df['PETRO CARD NO'].nunique())"
   ]
  },
  {
   "cell_type": "markdown",
   "metadata": {},
   "source": [
    "# Find out the total count of the data_item using value_counts():-Here we coulds see we have total highest count as 1 for each data_item."
   ]
  },
  {
   "cell_type": "code",
   "execution_count": 51,
   "metadata": {},
   "outputs": [
    {
     "name": "stdout",
     "output_type": "stream",
     "text": [
      "FC0005694541    1\n",
      "FC0005694293    1\n",
      "FC0005694491    1\n",
      "FC0005694574    1\n",
      "FC0005694665    1\n",
      "               ..\n",
      "FC0005695290    1\n",
      "FC0273929587    1\n",
      "FC0005695050    1\n",
      "FC0273372572    1\n",
      "FC0013800270    1\n",
      "Name: PETRO CARD NO, Length: 147, dtype: int64\n"
     ]
    }
   ],
   "source": [
    "print(df['PETRO CARD NO'].value_counts())"
   ]
  },
  {
   "cell_type": "markdown",
   "metadata": {},
   "source": [
    "# As this variable is a type of categorical variable with more values in discrete form with object datatype so we will not get any specific information from this variable because unique values are more and finding relevant information is not possible."
   ]
  },
  {
   "cell_type": "markdown",
   "metadata": {},
   "source": [
    "# Variable 2:-TOKEN ID:Here we could see we have total 92 unique values and this variable is a numerical type variable with values in the form of integers."
   ]
  },
  {
   "cell_type": "code",
   "execution_count": 57,
   "metadata": {},
   "outputs": [
    {
     "name": "stdout",
     "output_type": "stream",
     "text": [
      "[  203505 25005101   211187 25000421 23061454 23149398 23061475 23192481\n",
      "   204364 23010021   214830   210613   200025 23144970 23151702 23135551\n",
      "   206174 23148131 23155311   200577 23162160   209105   214609   201661\n",
      " 23163907   203380   202214 23137327   215372 23166736   200755   208071\n",
      " 23247001   200720   211002   203610 23167137   209479 23172291 23066772\n",
      "   200895 23075752   215250 23061476   201508   206923   212834   205045\n",
      "   200238 23200122 23103492 23073922   203656   213593 23082897 23172838\n",
      "   204911   206055   201273 23103379 23106941 25001212 23061155 25001262\n",
      " 25001858   209397 24009256   206814   208492   215667   214612 23096645\n",
      " 23141621   200785   204132   208607   204912   208989   207624   215419\n",
      "   208369 23062237 23010044   206575   200256 23092538  2214238   212752\n",
      " 23100962 23148746 23137649 23157934]\n",
      "92\n"
     ]
    }
   ],
   "source": [
    "print(df['TOKEN ID'].unique())\n",
    "print(df['TOKEN ID'].nunique())"
   ]
  },
  {
   "cell_type": "markdown",
   "metadata": {},
   "source": [
    "# Find the total count of the data_item using value_count()"
   ]
  },
  {
   "cell_type": "code",
   "execution_count": 58,
   "metadata": {},
   "outputs": [
    {
     "name": "stdout",
     "output_type": "stream",
     "text": [
      "23192481    37\n",
      "25000421     4\n",
      "200720       3\n",
      "23141621     3\n",
      "200238       2\n",
      "            ..\n",
      "23061155     1\n",
      "23075752     1\n",
      "23157934     1\n",
      "210613       1\n",
      "23163907     1\n",
      "Name: TOKEN ID, Length: 92, dtype: int64\n"
     ]
    }
   ],
   "source": [
    "print(df['TOKEN ID'].value_counts())"
   ]
  },
  {
   "cell_type": "markdown",
   "metadata": {},
   "source": [
    "# Plotting would be done and hence we could get some relavant information i.e. we could use violinplot to plot a graph through which we would classify the employees on the basis of token_id and Fuel_type and see whether which employee uses which fuel_type and would further classify its Status also i.e. whether that employee car is in active state i.e. running state or not.                              for ex:-[Here we could see that we have more employess who uses petrol as there fuel_type have active cars.]"
   ]
  },
  {
   "cell_type": "code",
   "execution_count": 5,
   "metadata": {},
   "outputs": [
    {
     "name": "stdout",
     "output_type": "stream",
     "text": [
      "AxesSubplot(0.125,0.125;0.775x0.755)\n"
     ]
    },
    {
     "data": {
      "image/png": "[encoded data removed]",
      "text/plain": [
       "<Figure size 432x288 with 1 Axes>"
      ]
     },
     "metadata": {
      "needs_background": "light"
     },
     "output_type": "display_data"
    }
   ],
   "source": [
    "print(sns.violinplot('FUEL','TOKEN ID',hue ='STATUS',data=df))"
   ]
  },
  {
   "cell_type": "markdown",
   "metadata": {},
   "source": [
    "# Variable 3:-VEHICLE NO:-Here we have total unique values as 139."
   ]
  },
  {
   "cell_type": "code",
   "execution_count": 64,
   "metadata": {},
   "outputs": [
    {
     "name": "stdout",
     "output_type": "stream",
     "text": [
      "['DL-8C-AU-2787' 'DL-8C-AY-0922' 'DL-8C-AY-5677' 'GENERATOR'\n",
      " 'KA-01-MQ-6924' 'KA-03-MU-1683' 'KL-07-CM-7452' 'MH-01-AH-9059'\n",
      " 'MH-01-AL-2011' 'MH-01-AX-6934' 'MH-01-BF-1950' 'MH-01-BF-4289'\n",
      " 'MH-01-BF-5901' 'MH-01-BF-7223' 'MH-01-BG-1270' 'MH-01-BK-6806'\n",
      " 'MH-01-BK-7728' 'MH-01-BR-1555' 'MH-01-BS-1555' 'MH-01-BU-1446'\n",
      " 'MH-01-BU-8057' 'MH-01-BY-1003' 'MH-01-BY-5373' 'MH-01-BY-6408'\n",
      " 'MH-01-BY-8298' 'MH-01-BY-9802' 'MH-01-CD-0424' 'MH-01-CD-0425'\n",
      " 'MH-01-CD-1017' 'MH-01-CD-1907' 'MH-01-CD-2509' 'MH-01-CD-2663'\n",
      " 'MH-01-CD-2665' 'MH-01-CD-3498' 'MH-01-CD-4929' 'MH-01-CD-5335'\n",
      " 'MH-01-CD-5338' 'MH-01-CD-5475' 'MH-01-CD-5816' 'MH-01-CD-5877'\n",
      " 'MH-01-CD-5914' 'MH-01-CD-5986' 'MH-01-CD-6173' 'MH-01-CD-6615'\n",
      " 'MH-01-CD-6968' 'MH-01-CD-6991' 'MH-01-CD-7461' 'MH-01-CD-7620'\n",
      " 'MH-01-CD-7747' 'MH-01-CD-8376' 'MH-01-CD-8678' 'MH-01-CD-8722'\n",
      " 'MH-01-CD-9361' 'MH-01-CD-9760' 'MH-01-CH-0424' 'MH-01-CH-0442'\n",
      " 'MH-01-CH-1171' 'MH-01-CH-1340' 'MH-01-CH-1772' 'MH-01-CH-2138'\n",
      " 'MH-01-CH-3603' 'MH-01-CH-3956' 'MH-01-CH-5421' 'MH-01-CH-5732'\n",
      " 'MH-01-CH-6138' 'MH-01-CP-2422' 'MH-01-CP-4029' 'MH-01-CP-4853'\n",
      " 'MH-01-CP-5057' 'MH-01-CP-7882' 'MH-01-CP-8471' 'MH-01-CP-9491'\n",
      " 'MH-01-CQ-1323' 'MH-01-CQ-5677' 'MH-01-CT-0306' 'MH-01-CT-0748'\n",
      " 'MH-01-CT-3496' 'MH-01-CT-5691' 'MH-01-CT-7133' 'MH-01-CT-7460'\n",
      " 'MH-01-CT-8311' 'MH-01-CV-1555' 'MH-01-DB-1183' 'MH-01-DB-1288'\n",
      " 'MH-01-DB-3182' 'MH-01-DB-3288' 'MH-01-DB-3655' 'MH-01-DB-3814'\n",
      " 'MH-01-DB-3984' 'MH-01-DB-5178' 'MH-01-DB-5803' 'MH-01-DB-6686 '\n",
      " 'MH-01-DB-6811' 'MH-01-DB-6965' 'MH-01-DB-7214' 'MH-01-DB-7561'\n",
      " 'MH-01-DB-9238' 'MH-01-DB-9261' 'MH-01-DB-9362' 'MH-01-DB-9520'\n",
      " 'MH-01-DB-9579' 'MH-01-DE-1472' 'MH-01-DE-2110' 'MH-01-DE-2254'\n",
      " 'MH-01-DE-3974' 'MH-01-DE-4125' 'MH-01-DE-4602' 'MH-01-DE-6997'\n",
      " 'MH-01-DE-7303 ' 'MH-01-DE-7942 ' 'MH-01-DE-8736' 'MH-01-DE-8824'\n",
      " 'MH-01-DE-8851' 'MH-01-DE-8932' 'MH-01-DH-1555' 'MH-01-DK-0812'\n",
      " 'MH-01-DK-2079' 'MH-01-DK-2611' 'MH-01-DK-2686' 'MH-01-DK-3739'\n",
      " 'MH-01-DK-4087' 'MH-01-DK-5412' 'MH-01-DK-5484' 'MH-01-DK-5897'\n",
      " 'MH-03-CB-6188' 'MH-14-CK-2660' 'MH-14-CS-9823 ' 'MH-14-FM-2784'\n",
      " 'MH-15-DS-8327' 'MH-15-EX-4642' 'MH-15-EX-4733' 'MH-15-FT-4366'\n",
      " 'MH-47-AF-1555' 'MH-47-AG-0688' nan 'TN-01-BF-4982' 'WB-20-BE-7622'\n",
      " 'MH-01-DK-7948' 'MH-01-DK-7943' 'MH-02-EP-6122']\n",
      "139\n"
     ]
    }
   ],
   "source": [
    "print(df['VEHICLE NO'].unique())\n",
    "print(df['VEHICLE NO'].nunique())"
   ]
  },
  {
   "cell_type": "markdown",
   "metadata": {},
   "source": [
    "# Find the total count of each data_item using value_counts():-Here we have total count with highest as 2."
   ]
  },
  {
   "cell_type": "code",
   "execution_count": 65,
   "metadata": {},
   "outputs": [
    {
     "name": "stdout",
     "output_type": "stream",
     "text": [
      "MH-01-DB-3182    2\n",
      "MH-01-DB-6965    2\n",
      "MH-01-AL-2011    2\n",
      "GENERATOR        2\n",
      "MH-01-DK-0812    2\n",
      "                ..\n",
      "MH-01-CH-3956    1\n",
      "MH-01-CD-9760    1\n",
      "MH-01-CD-4929    1\n",
      "MH-01-DK-5484    1\n",
      "MH-01-DK-3739    1\n",
      "Name: VEHICLE NO, Length: 139, dtype: int64\n"
     ]
    }
   ],
   "source": [
    "print(df['VEHICLE NO'].value_counts())"
   ]
  },
  {
   "cell_type": "markdown",
   "metadata": {},
   "source": [
    "# Here we could see that plotting of this variable through graph will not give us any important information and hence we not plot for this graph."
   ]
  },
  {
   "cell_type": "markdown",
   "metadata": {},
   "source": [
    "# Variable 4:-MODEL:-Here we have total unique values as 36."
   ]
  },
  {
   "cell_type": "code",
   "execution_count": 79,
   "metadata": {},
   "outputs": [
    {
     "name": "stdout",
     "output_type": "stream",
     "text": [
      "['XUV 5OO' 'ALTURAS G4 AWD' nan 'VERITO' 'BMW 525D' 'HONDA ACCORD' 'XYLO'\n",
      " 'REXTON' 'MARUTI WAGON R' 'TUV 3OO' 'MARUTI CELERIO' 'MERCEDES B180'\n",
      " 'HONDA AMAZE' 'HONDA CITY' 'AUDI A3' 'SCORPIO' 'JETTA' 'KUV 1OO'\n",
      " 'SKODA OCTAVIA' 'HYUNDAI I10' 'BMW 520D' 'BMW 320D' 'CIAZ' 'SKODA SUPERB'\n",
      " 'MERCEDES C220' 'COROLLA ALTIS' 'MERCEDES E200' 'POLO' 'PASSAT'\n",
      " 'HYUNDAI VERNA' 'VENTO' 'MARRAZO' 'THAR' 'MERCEDES GLC 300' 'XUV 3OO'\n",
      " 'BMW X1' 'BMW X3']\n",
      "36\n"
     ]
    }
   ],
   "source": [
    "print(df['MODEL'].unique())\n",
    "print(df['MODEL'].nunique())"
   ]
  },
  {
   "cell_type": "markdown",
   "metadata": {},
   "source": [
    "# Find the total count of each data_item using value_counts():-Here we have highest total_count as 54 which means that most employees uses XUV 500 as there car for travelling."
   ]
  },
  {
   "cell_type": "code",
   "execution_count": 77,
   "metadata": {},
   "outputs": [
    {
     "name": "stdout",
     "output_type": "stream",
     "text": [
      "XUV 5OO             54\n",
      "ALTURAS G4 AWD      11\n",
      "HONDA CITY           7\n",
      "TUV 3OO              7\n",
      "SCORPIO              6\n",
      "VERITO               5\n",
      "COROLLA ALTIS        4\n",
      "SKODA SUPERB         4\n",
      "MARRAZO              4\n",
      "SKODA OCTAVIA        3\n",
      "REXTON               2\n",
      "JETTA                2\n",
      "VENTO                2\n",
      "MERCEDES E200        2\n",
      "MARUTI CELERIO       2\n",
      "XYLO                 2\n",
      "BMW 520D             2\n",
      "BMW 525D             2\n",
      "HONDA ACCORD         2\n",
      "HYUNDAI VERNA        2\n",
      "XUV 3OO              2\n",
      "HYUNDAI I10          2\n",
      "KUV 1OO              2\n",
      "THAR                 1\n",
      "MERCEDES C220        1\n",
      "MERCEDES GLC 300     1\n",
      "MARUTI WAGON R       1\n",
      "AUDI A3              1\n",
      "BMW 320D             1\n",
      "CIAZ                 1\n",
      "PASSAT               1\n",
      "BMW X1               1\n",
      "BMW X3               1\n",
      "POLO                 1\n",
      "HONDA AMAZE          1\n",
      "MERCEDES B180        1\n",
      "Name: MODEL, dtype: int64\n"
     ]
    }
   ],
   "source": [
    "print(df['MODEL'].value_counts())"
   ]
  },
  {
   "cell_type": "markdown",
   "metadata": {},
   "source": [
    "# Here also plotting would not be give any relavant information as this variable hold many data_items and through count_plot we will not able to plot get any relavant information."
   ]
  },
  {
   "cell_type": "markdown",
   "metadata": {},
   "source": [
    "# Variable 5:-TRANSMISSION:-Here we have total unique values as 2."
   ]
  },
  {
   "cell_type": "code",
   "execution_count": 80,
   "metadata": {},
   "outputs": [
    {
     "name": "stdout",
     "output_type": "stream",
     "text": [
      "['AUTOMATIC' 'MANUAL' nan]\n",
      "2\n"
     ]
    }
   ],
   "source": [
    "print(df['TRANSMISSION'].unique())\n",
    "print(df['TRANSMISSION'].nunique())"
   ]
  },
  {
   "cell_type": "markdown",
   "metadata": {},
   "source": [
    "# Find the total count of each data_item using value_counts():here we have total_count for this categorical variable with Automatic as 84 and manual as 56 which means that many employees uses Automatic transmission of fuel in there cars."
   ]
  },
  {
   "cell_type": "code",
   "execution_count": 81,
   "metadata": {},
   "outputs": [
    {
     "name": "stdout",
     "output_type": "stream",
     "text": [
      "AUTOMATIC    84\n",
      "MANUAL       56\n",
      "Name: TRANSMISSION, dtype: int64\n"
     ]
    }
   ],
   "source": [
    "print(df['TRANSMISSION'].value_counts())"
   ]
  },
  {
   "cell_type": "markdown",
   "metadata": {},
   "source": [
    "# Here we will plot the graph using countplot and see whether how many employees uses automatic transmission and how many manual and we will also see whether which employee car is in active state i.e. which employee car in running state either who uses automatic type of transmission or who uses manual type of transmission.                                                                                                    for ex:-[here we could see we have total 84 cars which uses Automatic transmission as fuel type but out of which only 75 cars in the running state where as the car which uses Manual transmission as fuel type have 54 cars in the running state out of 56 manual transmission So this means that the cars uses manual transmission are more active then the car uses automatic transmission.] "
   ]
  },
  {
   "cell_type": "code",
   "execution_count": 7,
   "metadata": {},
   "outputs": [
    {
     "name": "stdout",
     "output_type": "stream",
     "text": [
      "AxesSubplot(0.125,0.125;0.775x0.755)\n"
     ]
    },
    {
     "data": {
      "image/png": "[encoded data removed]",
      "text/plain": [
       "<Figure size 432x288 with 1 Axes>"
      ]
     },
     "metadata": {
      "needs_background": "light"
     },
     "output_type": "display_data"
    }
   ],
   "source": [
    "print(sns.countplot('TRANSMISSION',hue ='STATUS',data=df))"
   ]
  },
  {
   "cell_type": "markdown",
   "metadata": {},
   "source": [
    "# Variable 6:-FUEL:Here we could see that we have total 2 unique values."
   ]
  },
  {
   "cell_type": "code",
   "execution_count": 84,
   "metadata": {},
   "outputs": [
    {
     "name": "stdout",
     "output_type": "stream",
     "text": [
      "['DIESEL' 'PETROL']\n",
      "2\n"
     ]
    }
   ],
   "source": [
    "print(df['FUEL'].unique())\n",
    "print(df['FUEL'].nunique())"
   ]
  },
  {
   "cell_type": "markdown",
   "metadata": {},
   "source": [
    "# Find the total count of each data_item using value_counts():here we have total_Count of diesel as 109 and petrol as 38 which shows that most of the employees uses diesel in there cars."
   ]
  },
  {
   "cell_type": "code",
   "execution_count": 86,
   "metadata": {},
   "outputs": [
    {
     "name": "stdout",
     "output_type": "stream",
     "text": [
      "DIESEL    109\n",
      "PETROL     38\n",
      "Name: FUEL, dtype: int64\n"
     ]
    }
   ],
   "source": [
    "print(df['FUEL'].value_counts())"
   ]
  },
  {
   "cell_type": "markdown",
   "metadata": {},
   "source": [
    "# here also we could plot the graph using countplot and we could see that whether which employees uses diesel and which petrol and we could see whether which diesel cars are more in the running state or petrol cars more in the running state.                                                                                                                           for ex:[here we see that we have total 109 cars which uses diesel as fuel_type and 38 cars which uses petrol as fuel_type  but out of which only 90 cars which uses diesel are in active state where as in case of petrol fuel_type we have more active cars with 37 and only 1 car is hotlisted which means that employees with fuel_type as diesel are more hotlisted]"
   ]
  },
  {
   "cell_type": "code",
   "execution_count": 9,
   "metadata": {},
   "outputs": [
    {
     "name": "stdout",
     "output_type": "stream",
     "text": [
      "AxesSubplot(0.125,0.125;0.775x0.755)\n"
     ]
    },
    {
     "data": {
      "image/png": "[encoded data removed]",
      "text/plain": [
       "<Figure size 432x288 with 1 Axes>"
      ]
     },
     "metadata": {
      "needs_background": "light"
     },
     "output_type": "display_data"
    }
   ],
   "source": [
    "print(sns.countplot('FUEL',hue ='STATUS',data=df))"
   ]
  },
  {
   "cell_type": "markdown",
   "metadata": {},
   "source": [
    "# Variable 7:-STATUS :- here we could see that we total unique values as 3 and this is a type of dependent variable."
   ]
  },
  {
   "cell_type": "code",
   "execution_count": 88,
   "metadata": {},
   "outputs": [
    {
     "name": "stdout",
     "output_type": "stream",
     "text": [
      "['ACTIVE' 'HOTLISTED' 'DACTIVATED']\n",
      "3\n"
     ]
    }
   ],
   "source": [
    "print(df['STATUS'].unique())\n",
    "print(df['STATUS'].nunique())"
   ]
  },
  {
   "cell_type": "markdown",
   "metadata": {},
   "source": [
    "# Find the total count of each data_item using value_counts():here we have active cars as 138,hotlisted or cars which have done some crime or the cars which are stealed are 7 and not active or deactivated cars are 2."
   ]
  },
  {
   "cell_type": "code",
   "execution_count": 92,
   "metadata": {},
   "outputs": [
    {
     "name": "stdout",
     "output_type": "stream",
     "text": [
      "ACTIVE        138\n",
      "HOTLISTED       7\n",
      "DACTIVATED      2\n",
      "Name: STATUS, dtype: int64\n"
     ]
    }
   ],
   "source": [
    "print(df['STATUS'].value_counts())"
   ]
  },
  {
   "cell_type": "markdown",
   "metadata": {},
   "source": [
    "# here also we could plot the graph using bar graph and we could see that we have total 138 cars which are in active state,7 cars which are hotlisted and 2 cars which are deactivated."
   ]
  },
  {
   "cell_type": "code",
   "execution_count": 93,
   "metadata": {},
   "outputs": [
    {
     "name": "stdout",
     "output_type": "stream",
     "text": [
      "AxesSubplot(0.125,0.125;0.775x0.755)\n",
      "Text(0.5, 0, 'STATUS')\n"
     ]
    },
    {
     "data": {
      "image/png": "[encoded data removed]",
      "text/plain": [
       "<Figure size 432x288 with 1 Axes>"
      ]
     },
     "metadata": {
      "needs_background": "light"
     },
     "output_type": "display_data"
    }
   ],
   "source": [
    "print(df['STATUS'].value_counts().plot(kind ='bar',width =0.1,color =['blue','green','red']))\n",
    "print(plt.xlabel('STATUS'))"
   ]
  },
  {
   "cell_type": "code",
   "execution_count": null,
   "metadata": {},
   "outputs": [],
   "source": []
  }
 ],
 "metadata": {
  "kernelspec": {
   "display_name": "Python 3",
   "language": "python",
   "name": "python3"
  },
  "language_info": {
   "codemirror_mode": {
    "name": "ipython",
    "version": 3
   },
   "file_extension": ".py",
   "mimetype": "text/x-python",
   "name": "python",
   "nbconvert_exporter": "python",
   "pygments_lexer": "ipython3",
   "version": "3.7.6"
  }
 },
 "nbformat": 4,
 "nbformat_minor": 4
}
