{
 "cells": [
  {
   "cell_type": "markdown",
   "metadata": {},
   "source": [
    "# Import Libraries"
   ]
  },
  {
   "cell_type": "code",
   "execution_count": 17,
   "metadata": {},
   "outputs": [],
   "source": [
    "import pandas as pd\n",
    "import matplotlib.pyplot as plt"
   ]
  },
  {
   "cell_type": "markdown",
   "metadata": {},
   "source": [
    "# Import Dataset"
   ]
  },
  {
   "cell_type": "code",
   "execution_count": 3,
   "metadata": {},
   "outputs": [
    {
     "name": "stdout",
     "output_type": "stream",
     "text": [
      "    PETRO CARD NO  TOKEN ID     VEHICLE NO           MODEL TRANSMISSION  \\\n",
      "0    FC0108719559    203505  DL-8C-AU-2787         XUV 5OO    AUTOMATIC   \n",
      "1    FC0026782069  25005101  DL-8C-AY-0922         XUV 5OO       MANUAL   \n",
      "2    FC0005694996    211187  DL-8C-AY-5677  ALTURAS G4 AWD    AUTOMATIC   \n",
      "3    FC0273416064    211187  DL-8C-AY-5677  ALTURAS G4 AWD    AUTOMATIC   \n",
      "4    FC0005694749  25000421      GENERATOR             NaN          NaN   \n",
      "..            ...       ...            ...             ...          ...   \n",
      "142  FC0013800312  23100962  WB-20-BE-7622         XUV 5OO       MANUAL   \n",
      "143  FC0005694129  23192481  MH-01-AL-2011            XYLO          NaN   \n",
      "144  FC0280132431  23148746  MH-01-DK-7948         XUV 5OO          NaN   \n",
      "145  FC0280132399  23137649  MH-01-DK-7943         XUV 5OO          NaN   \n",
      "146  FC0278695431  23157934  MH-02-EP-6122  MARUTI CELERIO          NaN   \n",
      "\n",
      "       FUEL  STATUS  \n",
      "0    DIESEL  ACTIVE  \n",
      "1    DIESEL  ACTIVE  \n",
      "2    DIESEL  ACTIVE  \n",
      "3    DIESEL  ACTIVE  \n",
      "4    DIESEL  ACTIVE  \n",
      "..      ...     ...  \n",
      "142  DIESEL  ACTIVE  \n",
      "143  DIESEL  ACTIVE  \n",
      "144  DIESEL  ACTIVE  \n",
      "145  DIESEL  ACTIVE  \n",
      "146  PETROL  ACTIVE  \n",
      "\n",
      "[147 rows x 7 columns]\n"
     ]
    }
   ],
   "source": [
    "df=pd.read_excel('C:\\\\Users\\\\arpit\\\\Downloads\\\\Master.xlsx')\n",
    "print(df)"
   ]
  },
  {
   "cell_type": "markdown",
   "metadata": {},
   "source": [
    "# Identification of variables:-Here we could see that there are both type of variable i.e. Continuous and Categorical Variable present here with Status as dependent variable and other six variable are independent variable."
   ]
  },
  {
   "cell_type": "markdown",
   "metadata": {},
   "source": [
    "# Identification of Datatypes:- Here we have either string type of data or we have integer type of data."
   ]
  },
  {
   "cell_type": "code",
   "execution_count": 4,
   "metadata": {},
   "outputs": [
    {
     "name": "stdout",
     "output_type": "stream",
     "text": [
      "PETRO CARD NO    object\n",
      "TOKEN ID          int64\n",
      "VEHICLE NO       object\n",
      "MODEL            object\n",
      "TRANSMISSION     object\n",
      "FUEL             object\n",
      "STATUS           object\n",
      "dtype: object\n"
     ]
    }
   ],
   "source": [
    "print(df.dtypes)"
   ]
  },
  {
   "cell_type": "markdown",
   "metadata": {},
   "source": [
    "# Identification of size of dataset"
   ]
  },
  {
   "cell_type": "code",
   "execution_count": 5,
   "metadata": {},
   "outputs": [
    {
     "name": "stdout",
     "output_type": "stream",
     "text": [
      "(147, 7)\n"
     ]
    }
   ],
   "source": [
    "print(df.shape)"
   ]
  },
  {
   "cell_type": "markdown",
   "metadata": {},
   "source": [
    "# Identification of stats of dataset"
   ]
  },
  {
   "cell_type": "code",
   "execution_count": 6,
   "metadata": {},
   "outputs": [
    {
     "name": "stdout",
     "output_type": "stream",
     "text": [
      "           TOKEN ID\n",
      "count  1.470000e+02\n",
      "mean   1.390835e+07\n",
      "std    1.139847e+07\n",
      "min    2.000250e+05\n",
      "25%    2.082200e+05\n",
      "50%    2.309664e+07\n",
      "75%    2.319248e+07\n",
      "max    2.500510e+07\n"
     ]
    }
   ],
   "source": [
    "print(df.describe())"
   ]
  },
  {
   "cell_type": "markdown",
   "metadata": {},
   "source": [
    "# Identification of missing value"
   ]
  },
  {
   "cell_type": "code",
   "execution_count": 7,
   "metadata": {},
   "outputs": [
    {
     "name": "stdout",
     "output_type": "stream",
     "text": [
      "PETRO CARD NO    0\n",
      "TOKEN ID         0\n",
      "VEHICLE NO       1\n",
      "MODEL            3\n",
      "TRANSMISSION     7\n",
      "FUEL             0\n",
      "STATUS           0\n",
      "dtype: int64\n"
     ]
    }
   ],
   "source": [
    "print(df.apply(lambda x: sum(x.isnull()),axis=0))"
   ]
  },
  {
   "cell_type": "markdown",
   "metadata": {},
   "source": [
    "# Data Analysis variable wise"
   ]
  },
  {
   "cell_type": "markdown",
   "metadata": {},
   "source": [
    "# Variable 1:-PETRO CARD NO"
   ]
  },
  {
   "cell_type": "code",
   "execution_count": 13,
   "metadata": {},
   "outputs": [
    {
     "name": "stdout",
     "output_type": "stream",
     "text": [
      "['FC0108719559' 'FC0026782069' 'FC0005694996' 'FC0273416064'\n",
      " 'FC0005694749' 'FC0005695431' 'FC0005694673' 'FC0013800270'\n",
      " 'FC0005695027' 'FC0005694137' 'FC7005694129' 'FC0005694160'\n",
      " 'FC0005694269' 'FC0005695282' 'FC0005695159' 'FC0005695209'\n",
      " 'FC0014934508' 'FC0005694343' 'FC0005694863' 'FC0005695217'\n",
      " 'FC0005694699' 'FC0005694087' 'FC0005694285' 'FC0005694624'\n",
      " 'FC0005695084' 'FC0005694152' 'FC0005695480' 'FC0005694574'\n",
      " 'FC0005695472' 'FC0005695464' 'FC0005694061' 'FC0005694319'\n",
      " 'FC0005695316' 'FC0005694582' 'FC0005695290' 'FC0005695233'\n",
      " 'FC0005694541' 'FC0006277189' 'FC0005694871' 'FC0005694764'\n",
      " 'FC0005694962' 'FC0005694301' 'FC0005694178' 'FC0005694558'\n",
      " 'FC0005694681' 'FC0005694566' 'FC0005694970' 'FC0005694772'\n",
      " 'FC0005694905' 'FC0005694897' 'FC0005694400' 'FC0005694947'\n",
      " 'FC0005694145' 'FC0005694640' 'FC0005694806' 'FC0005694715'\n",
      " 'FC0005695134' 'FC0005694392' 'FC0005694079' 'FC0005694426'\n",
      " 'FC0005695324' 'FC0005695332' 'FC0005694731' 'FC0005694418'\n",
      " 'FC0005695365' 'FC0005694384' 'FC0005694046' 'FC0005694376'\n",
      " 'FC0005694798' 'FC0005694988' 'FC0005694889' 'FC0005694012'\n",
      " 'FC0005694442' 'FC0005695241' 'FC0006277148' 'FC0005694665'\n",
      " 'FC0005694103' 'FC0005695373' 'FC0005693998' 'FC0005694509'\n",
      " 'FC0005695118' 'FC0005694848' 'FC0005695381' 'FC0005694533'\n",
      " 'FC0005694004' 'FC0005695076' 'FC0005694244' 'FC0062016950'\n",
      " 'FC0005694236' 'FC0005695415' 'FC0005694434' 'FC0005694921'\n",
      " 'FC0005693980' 'FC0005695043' 'FC0005694210' 'FC0005695399'\n",
      " 'FC0005695225' 'FC0005694020' 'FC0005695407' 'FC0005694038'\n",
      " 'FC0005694475' 'FC0005694491' 'FC0005694616' 'FC0006277171'\n",
      " 'FC0005694111' 'FC0005694780' 'FC0005695126' 'FC0005695050'\n",
      " 'FC0005695340' 'FC0005695183' 'FC0005695449' 'FC0005694459'\n",
      " 'FC0005694913' 'FC0005695274' 'FC0005695167' 'FC0269754700'\n",
      " 'FC0005694954' 'FC0005695423' 'FC0005694707' 'FC0272414920'\n",
      " 'FC0005694293' 'FC0273929587' 'FC0005695092' 'FC0005694830'\n",
      " 'FC0005694053' 'FC0005695019' 'FC0005695456' 'FC0273372572'\n",
      " 'FC0273368174' 'FC0104951362' 'FC0270028912' 'FC0006276868'\n",
      " 'FC0005694590' 'FC0005694483' 'FC0005695100' 'FC0005694277'\n",
      " 'FC0005695035' 'FC0005694723' 'FC0014114614' 'FC0272231423'\n",
      " 'FC0005694517' 'FC0120933618' 'FC0013800312' 'FC0005694129'\n",
      " 'FC0280132431' 'FC0280132399' 'FC0278695431']\n",
      "147\n",
      "FC0005693980\n",
      "FC7005694129\n",
      "0     FC0108719559\n",
      "1     FC0026782069\n",
      "2     FC0005694996\n",
      "3     FC0273416064\n",
      "4     FC0005694749\n",
      "5     FC0005695431\n",
      "6     FC0005694673\n",
      "7     FC0013800270\n",
      "8     FC0005695027\n",
      "9     FC0005694137\n",
      "10    FC7005694129\n",
      "11    FC0005694160\n",
      "12    FC0005694269\n",
      "13    FC0005695282\n",
      "14    FC0005695159\n",
      "15    FC0005695209\n",
      "16    FC0014934508\n",
      "17    FC0005694343\n",
      "18    FC0005694863\n",
      "19    FC0005695217\n",
      "20    FC0005694699\n",
      "21    FC0005694087\n",
      "22    FC0005694285\n",
      "23    FC0005694624\n",
      "24    FC0005695084\n",
      "25    FC0005694152\n",
      "26    FC0005695480\n",
      "27    FC0005694574\n",
      "28    FC0005695472\n",
      "29    FC0005695464\n",
      "30    FC0005694061\n",
      "31    FC0005694319\n",
      "32    FC0005695316\n",
      "33    FC0005694582\n",
      "34    FC0005695290\n",
      "35    FC0005695233\n",
      "36    FC0005694541\n",
      "37    FC0006277189\n",
      "38    FC0005694871\n",
      "39    FC0005694764\n",
      "40    FC0005694962\n",
      "41    FC0005694301\n",
      "42    FC0005694178\n",
      "43    FC0005694558\n",
      "44    FC0005694681\n",
      "45    FC0005694566\n",
      "46    FC0005694970\n",
      "47    FC0005694772\n",
      "48    FC0005694905\n",
      "49    FC0005694897\n",
      "Name: PETRO CARD NO, dtype: object\n"
     ]
    }
   ],
   "source": [
    "print(df['PETRO CARD NO'].unique())\n",
    "print(df['PETRO CARD NO'].nunique())\n",
    "print(df['PETRO CARD NO'].min())\n",
    "print(df['PETRO CARD NO'].max())\n",
    "print(df['PETRO CARD NO'].head(50))"
   ]
  },
  {
   "cell_type": "markdown",
   "metadata": {},
   "source": [
    "# Find total count of each value using value_counts()"
   ]
  },
  {
   "cell_type": "code",
   "execution_count": 14,
   "metadata": {},
   "outputs": [
    {
     "name": "stdout",
     "output_type": "stream",
     "text": [
      "FC0005695407    1\n",
      "FC0005695233    1\n",
      "FC0005694160    1\n",
      "FC0005694582    1\n",
      "FC0005694145    1\n",
      "               ..\n",
      "FC0273929587    1\n",
      "FC0005695274    1\n",
      "FC0005695027    1\n",
      "FC0005694046    1\n",
      "FC0005694707    1\n",
      "Name: PETRO CARD NO, Length: 147, dtype: int64\n"
     ]
    }
   ],
   "source": [
    "print(df['PETRO CARD NO'].value_counts())"
   ]
  },
  {
   "cell_type": "markdown",
   "metadata": {},
   "source": [
    "# Plotting of graph using Histogram:-Edge type distributed data spread over a specified range of (1.0-1.2)"
   ]
  },
  {
   "cell_type": "code",
   "execution_count": 21,
   "metadata": {},
   "outputs": [
    {
     "name": "stdout",
     "output_type": "stream",
     "text": [
      "AxesSubplot(0.125,0.125;0.775x0.755)\n",
      "Text(0.5, 0, 'PETRO CARD NO')\n"
     ]
    },
    {
     "data": {
      "image/png": "[encoded data removed]",
      "text/plain": [
       "<Figure size 432x288 with 1 Axes>"
      ]
     },
     "metadata": {
      "needs_background": "light"
     },
     "output_type": "display_data"
    }
   ],
   "source": [
    "print(df['PETRO CARD NO'].value_counts().plot(kind ='hist'))\n",
    "print(plt.xlabel('PETRO CARD NO'))"
   ]
  },
  {
   "cell_type": "markdown",
   "metadata": {},
   "source": [
    "# Variable 2:-TOKEN ID"
   ]
  },
  {
   "cell_type": "code",
   "execution_count": 22,
   "metadata": {},
   "outputs": [
    {
     "name": "stdout",
     "output_type": "stream",
     "text": [
      "[  203505 25005101   211187 25000421 23061454 23149398 23061475 23192481\n",
      "   204364 23010021   214830   210613   200025 23144970 23151702 23135551\n",
      "   206174 23148131 23155311   200577 23162160   209105   214609   201661\n",
      " 23163907   203380   202214 23137327   215372 23166736   200755   208071\n",
      " 23247001   200720   211002   203610 23167137   209479 23172291 23066772\n",
      "   200895 23075752   215250 23061476   201508   206923   212834   205045\n",
      "   200238 23200122 23103492 23073922   203656   213593 23082897 23172838\n",
      "   204911   206055   201273 23103379 23106941 25001212 23061155 25001262\n",
      " 25001858   209397 24009256   206814   208492   215667   214612 23096645\n",
      " 23141621   200785   204132   208607   204912   208989   207624   215419\n",
      "   208369 23062237 23010044   206575   200256 23092538  2214238   212752\n",
      " 23100962 23148746 23137649 23157934]\n",
      "92\n",
      "200025\n",
      "25005101\n",
      "0       203505\n",
      "1     25005101\n",
      "2       211187\n",
      "3       211187\n",
      "4     25000421\n",
      "5     25000421\n",
      "6     23061454\n",
      "7     23149398\n",
      "8     23061475\n",
      "9     23192481\n",
      "10    23192481\n",
      "11    23192481\n",
      "12    23192481\n",
      "13      204364\n",
      "14    23192481\n",
      "15    23192481\n",
      "16    23192481\n",
      "17    23010021\n",
      "18      214830\n",
      "19    23192481\n",
      "20    23192481\n",
      "21    23192481\n",
      "22      210613\n",
      "23      200025\n",
      "24    23192481\n",
      "25    23192481\n",
      "26    23144970\n",
      "27    23192481\n",
      "28    23151702\n",
      "29    23135551\n",
      "30      206174\n",
      "31    23148131\n",
      "32    23155311\n",
      "33    23192481\n",
      "34    23192481\n",
      "35    23192481\n",
      "36    23192481\n",
      "37    23192481\n",
      "38    23192481\n",
      "39      200577\n",
      "40    23162160\n",
      "41      209105\n",
      "42      214609\n",
      "43    23192481\n",
      "44    23192481\n",
      "45      201661\n",
      "46    23163907\n",
      "47      203380\n",
      "48      202214\n",
      "49    23137327\n",
      "Name: TOKEN ID, dtype: int64\n"
     ]
    }
   ],
   "source": [
    "print(df['TOKEN ID'].unique())\n",
    "print(df['TOKEN ID'].nunique())\n",
    "print(df['TOKEN ID'].min())\n",
    "print(df['TOKEN ID'].max())\n",
    "print(df['TOKEN ID'].head(50))"
   ]
  },
  {
   "cell_type": "code",
   "execution_count": 25,
   "metadata": {},
   "outputs": [
    {
     "name": "stdout",
     "output_type": "stream",
     "text": [
      "    PETRO CARD NO  TOKEN ID     VEHICLE NO          MODEL TRANSMISSION  \\\n",
      "23   FC0005694624    200025  MH-01-BY-1003  MERCEDES B180    AUTOMATIC   \n",
      "76   FC0005694103    200238  MH-01-CT-0306   SKODA SUPERB    AUTOMATIC   \n",
      "97   FC0005694020    200238  MH-01-DB-6965        XUV 5OO       MANUAL   \n",
      "133  FC0005694483    200256  MH-14-FM-2784        XUV 5OO    AUTOMATIC   \n",
      "39   FC0005694764    200577  MH-01-CD-5475     HONDA CITY    AUTOMATIC   \n",
      "..            ...       ...            ...            ...          ...   \n",
      "137  FC0005694723  25000421  MH-15-FT-4366        XUV 5OO       MANUAL   \n",
      "98   FC0005695407  25001212  MH-01-DB-7214  COROLLA ALTIS    AUTOMATIC   \n",
      "100  FC0005694475  25001262  MH-01-DB-9238     HONDA CITY       MANUAL   \n",
      "101  FC0005694491  25001858  MH-01-DB-9261   SKODA SUPERB    AUTOMATIC   \n",
      "1    FC0026782069  25005101  DL-8C-AY-0922        XUV 5OO       MANUAL   \n",
      "\n",
      "       FUEL     STATUS  \n",
      "23   DIESEL     ACTIVE  \n",
      "76   PETROL  HOTLISTED  \n",
      "97   DIESEL  HOTLISTED  \n",
      "133  DIESEL     ACTIVE  \n",
      "39   PETROL     ACTIVE  \n",
      "..      ...        ...  \n",
      "137  DIESEL     ACTIVE  \n",
      "98   PETROL     ACTIVE  \n",
      "100  PETROL     ACTIVE  \n",
      "101  PETROL     ACTIVE  \n",
      "1    DIESEL     ACTIVE  \n",
      "\n",
      "[147 rows x 7 columns]\n"
     ]
    }
   ],
   "source": [
    "print(df.sort_values(['TOKEN ID']))"
   ]
  },
  {
   "cell_type": "markdown",
   "metadata": {},
   "source": [
    "# Find out the total count of data_item using value_counts():Max count is of 23192481 with 37 "
   ]
  },
  {
   "cell_type": "code",
   "execution_count": 39,
   "metadata": {},
   "outputs": [
    {
     "name": "stdout",
     "output_type": "stream",
     "text": [
      "23192481    37\n",
      "25000421     4\n",
      "200720       3\n",
      "23141621     3\n",
      "200238       2\n",
      "            ..\n",
      "23061155     1\n",
      "23075752     1\n",
      "23157934     1\n",
      "210613       1\n",
      "23163907     1\n",
      "Name: TOKEN ID, Length: 92, dtype: int64\n"
     ]
    }
   ],
   "source": [
    "print(df['TOKEN ID'].value_counts())"
   ]
  },
  {
   "cell_type": "markdown",
   "metadata": {},
   "source": [
    "# Plotting of graph using histogram:-Edge type distributed data spread over a specified range of (0.0-0.5),(2.0-2.5)"
   ]
  },
  {
   "cell_type": "code",
   "execution_count": 66,
   "metadata": {},
   "outputs": [
    {
     "data": {
      "text/plain": [
       "[]"
      ]
     },
     "execution_count": 66,
     "metadata": {},
     "output_type": "execute_result"
    },
    {
     "data": {
      "image/png": "[encoded data removed]",
      "text/plain": [
       "<Figure size 432x288 with 1 Axes>"
      ]
     },
     "metadata": {
      "needs_background": "light"
     },
     "output_type": "display_data"
    }
   ],
   "source": [
    "df['TOKEN ID'].hist(color ='red')\n",
    "plt.xlabel('TOKEN ID')\n",
    "plt.ylabel('frequency')\n",
    "plt.plot()"
   ]
  },
  {
   "cell_type": "markdown",
   "metadata": {},
   "source": [
    "# Variable 3:VEHICLE NO"
   ]
  },
  {
   "cell_type": "code",
   "execution_count": 29,
   "metadata": {},
   "outputs": [
    {
     "name": "stdout",
     "output_type": "stream",
     "text": [
      "['DL-8C-AU-2787' 'DL-8C-AY-0922' 'DL-8C-AY-5677' 'GENERATOR'\n",
      " 'KA-01-MQ-6924' 'KA-03-MU-1683' 'KL-07-CM-7452' 'MH-01-AH-9059'\n",
      " 'MH-01-AL-2011' 'MH-01-AX-6934' 'MH-01-BF-1950' 'MH-01-BF-4289'\n",
      " 'MH-01-BF-5901' 'MH-01-BF-7223' 'MH-01-BG-1270' 'MH-01-BK-6806'\n",
      " 'MH-01-BK-7728' 'MH-01-BR-1555' 'MH-01-BS-1555' 'MH-01-BU-1446'\n",
      " 'MH-01-BU-8057' 'MH-01-BY-1003' 'MH-01-BY-5373' 'MH-01-BY-6408'\n",
      " 'MH-01-BY-8298' 'MH-01-BY-9802' 'MH-01-CD-0424' 'MH-01-CD-0425'\n",
      " 'MH-01-CD-1017' 'MH-01-CD-1907' 'MH-01-CD-2509' 'MH-01-CD-2663'\n",
      " 'MH-01-CD-2665' 'MH-01-CD-3498' 'MH-01-CD-4929' 'MH-01-CD-5335'\n",
      " 'MH-01-CD-5338' 'MH-01-CD-5475' 'MH-01-CD-5816' 'MH-01-CD-5877'\n",
      " 'MH-01-CD-5914' 'MH-01-CD-5986' 'MH-01-CD-6173' 'MH-01-CD-6615'\n",
      " 'MH-01-CD-6968' 'MH-01-CD-6991' 'MH-01-CD-7461' 'MH-01-CD-7620'\n",
      " 'MH-01-CD-7747' 'MH-01-CD-8376' 'MH-01-CD-8678' 'MH-01-CD-8722'\n",
      " 'MH-01-CD-9361' 'MH-01-CD-9760' 'MH-01-CH-0424' 'MH-01-CH-0442'\n",
      " 'MH-01-CH-1171' 'MH-01-CH-1340' 'MH-01-CH-1772' 'MH-01-CH-2138'\n",
      " 'MH-01-CH-3603' 'MH-01-CH-3956' 'MH-01-CH-5421' 'MH-01-CH-5732'\n",
      " 'MH-01-CH-6138' 'MH-01-CP-2422' 'MH-01-CP-4029' 'MH-01-CP-4853'\n",
      " 'MH-01-CP-5057' 'MH-01-CP-7882' 'MH-01-CP-8471' 'MH-01-CP-9491'\n",
      " 'MH-01-CQ-1323' 'MH-01-CQ-5677' 'MH-01-CT-0306' 'MH-01-CT-0748'\n",
      " 'MH-01-CT-3496' 'MH-01-CT-5691' 'MH-01-CT-7133' 'MH-01-CT-7460'\n",
      " 'MH-01-CT-8311' 'MH-01-CV-1555' 'MH-01-DB-1183' 'MH-01-DB-1288'\n",
      " 'MH-01-DB-3182' 'MH-01-DB-3288' 'MH-01-DB-3655' 'MH-01-DB-3814'\n",
      " 'MH-01-DB-3984' 'MH-01-DB-5178' 'MH-01-DB-5803' 'MH-01-DB-6686 '\n",
      " 'MH-01-DB-6811' 'MH-01-DB-6965' 'MH-01-DB-7214' 'MH-01-DB-7561'\n",
      " 'MH-01-DB-9238' 'MH-01-DB-9261' 'MH-01-DB-9362' 'MH-01-DB-9520'\n",
      " 'MH-01-DB-9579' 'MH-01-DE-1472' 'MH-01-DE-2110' 'MH-01-DE-2254'\n",
      " 'MH-01-DE-3974' 'MH-01-DE-4125' 'MH-01-DE-4602' 'MH-01-DE-6997'\n",
      " 'MH-01-DE-7303 ' 'MH-01-DE-7942 ' 'MH-01-DE-8736' 'MH-01-DE-8824'\n",
      " 'MH-01-DE-8851' 'MH-01-DE-8932' 'MH-01-DH-1555' 'MH-01-DK-0812'\n",
      " 'MH-01-DK-2079' 'MH-01-DK-2611' 'MH-01-DK-2686' 'MH-01-DK-3739'\n",
      " 'MH-01-DK-4087' 'MH-01-DK-5412' 'MH-01-DK-5484' 'MH-01-DK-5897'\n",
      " 'MH-03-CB-6188' 'MH-14-CK-2660' 'MH-14-CS-9823 ' 'MH-14-FM-2784'\n",
      " 'MH-15-DS-8327' 'MH-15-EX-4642' 'MH-15-EX-4733' 'MH-15-FT-4366'\n",
      " 'MH-47-AF-1555' 'MH-47-AG-0688' nan 'TN-01-BF-4982' 'WB-20-BE-7622'\n",
      " 'MH-01-DK-7948' 'MH-01-DK-7943' 'MH-02-EP-6122']\n",
      "139\n",
      "0     DL-8C-AU-2787\n",
      "1     DL-8C-AY-0922\n",
      "2     DL-8C-AY-5677\n",
      "3     DL-8C-AY-5677\n",
      "4         GENERATOR\n",
      "5         GENERATOR\n",
      "6     KA-01-MQ-6924\n",
      "7     KA-03-MU-1683\n",
      "8     KL-07-CM-7452\n",
      "9     MH-01-AH-9059\n",
      "10    MH-01-AL-2011\n",
      "11    MH-01-AX-6934\n",
      "12    MH-01-BF-1950\n",
      "13    MH-01-BF-4289\n",
      "14    MH-01-BF-5901\n",
      "15    MH-01-BF-7223\n",
      "16    MH-01-BG-1270\n",
      "17    MH-01-BK-6806\n",
      "18    MH-01-BK-7728\n",
      "19    MH-01-BR-1555\n",
      "20    MH-01-BS-1555\n",
      "21    MH-01-BU-1446\n",
      "22    MH-01-BU-8057\n",
      "23    MH-01-BY-1003\n",
      "24    MH-01-BY-5373\n",
      "25    MH-01-BY-6408\n",
      "26    MH-01-BY-8298\n",
      "27    MH-01-BY-9802\n",
      "28    MH-01-CD-0424\n",
      "29    MH-01-CD-0425\n",
      "30    MH-01-CD-1017\n",
      "31    MH-01-CD-1907\n",
      "32    MH-01-CD-2509\n",
      "33    MH-01-CD-2663\n",
      "34    MH-01-CD-2665\n",
      "35    MH-01-CD-3498\n",
      "36    MH-01-CD-4929\n",
      "37    MH-01-CD-5335\n",
      "38    MH-01-CD-5338\n",
      "39    MH-01-CD-5475\n",
      "40    MH-01-CD-5816\n",
      "41    MH-01-CD-5877\n",
      "42    MH-01-CD-5914\n",
      "43    MH-01-CD-5986\n",
      "44    MH-01-CD-6173\n",
      "45    MH-01-CD-6615\n",
      "46    MH-01-CD-6968\n",
      "47    MH-01-CD-6991\n",
      "48    MH-01-CD-7461\n",
      "49    MH-01-CD-7620\n",
      "Name: VEHICLE NO, dtype: object\n"
     ]
    }
   ],
   "source": [
    "print(df['VEHICLE NO'].unique())\n",
    "print(df['VEHICLE NO'].nunique())\n",
    "print(df['VEHICLE NO'].head(50))"
   ]
  },
  {
   "cell_type": "markdown",
   "metadata": {},
   "source": [
    "# Find total count of data_item using value_counts()"
   ]
  },
  {
   "cell_type": "code",
   "execution_count": 40,
   "metadata": {},
   "outputs": [
    {
     "name": "stdout",
     "output_type": "stream",
     "text": [
      "MH-01-DB-3182    2\n",
      "MH-01-DH-1555    2\n",
      "DL-8C-AY-5677    2\n",
      "MH-01-AL-2011    2\n",
      "MH-01-DB-6965    2\n",
      "                ..\n",
      "MH-01-BK-6806    1\n",
      "MH-01-DK-7943    1\n",
      "WB-20-BE-7622    1\n",
      "MH-01-CP-5057    1\n",
      "MH-47-AG-0688    1\n",
      "Name: VEHICLE NO, Length: 139, dtype: int64\n"
     ]
    }
   ],
   "source": [
    "print(df['VEHICLE NO'].value_counts())"
   ]
  },
  {
   "cell_type": "markdown",
   "metadata": {},
   "source": [
    "# Plotting of graph using histogram:-Edge type distributed data spread over a specified range of (1.0-1.2),(1.8-2.0)"
   ]
  },
  {
   "cell_type": "code",
   "execution_count": 67,
   "metadata": {},
   "outputs": [
    {
     "name": "stdout",
     "output_type": "stream",
     "text": [
      "AxesSubplot(0.125,0.125;0.775x0.755)\n",
      "Text(0.5, 0, 'VEHICLE NO')\n"
     ]
    },
    {
     "data": {
      "image/png": "[encoded data removed]",
      "text/plain": [
       "<Figure size 432x288 with 1 Axes>"
      ]
     },
     "metadata": {
      "needs_background": "light"
     },
     "output_type": "display_data"
    }
   ],
   "source": [
    "print(df['VEHICLE NO'].value_counts().plot(kind ='hist',color ='green'))\n",
    "print(plt.xlabel('VEHICLE NO'))"
   ]
  },
  {
   "cell_type": "markdown",
   "metadata": {},
   "source": [
    "# Variable 4:-MODEL"
   ]
  },
  {
   "cell_type": "code",
   "execution_count": 38,
   "metadata": {},
   "outputs": [
    {
     "name": "stdout",
     "output_type": "stream",
     "text": [
      "['XUV 5OO' 'ALTURAS G4 AWD' nan 'VERITO' 'BMW 525D' 'HONDA ACCORD' 'XYLO'\n",
      " 'REXTON' 'MARUTI WAGON R' 'TUV 3OO' 'MARUTI CELERIO' 'MERCEDES B180'\n",
      " 'HONDA AMAZE' 'HONDA CITY' 'AUDI A3' 'SCORPIO' 'JETTA' 'KUV 1OO'\n",
      " 'SKODA OCTAVIA' 'HYUNDAI I10' 'BMW 520D' 'BMW 320D' 'CIAZ' 'SKODA SUPERB'\n",
      " 'MERCEDES C220' 'COROLLA ALTIS' 'MERCEDES E200' 'POLO' 'PASSAT'\n",
      " 'HYUNDAI VERNA' 'VENTO' 'MARRAZO' 'THAR' 'MERCEDES GLC 300' 'XUV 3OO'\n",
      " 'BMW X1' 'BMW X3']\n",
      "36\n"
     ]
    }
   ],
   "source": [
    "print(df['MODEL'].unique())\n",
    "print(df['MODEL'].nunique())"
   ]
  },
  {
   "cell_type": "markdown",
   "metadata": {},
   "source": [
    "# Use of groupby()"
   ]
  },
  {
   "cell_type": "code",
   "execution_count": 44,
   "metadata": {},
   "outputs": [
    {
     "name": "stdout",
     "output_type": "stream",
     "text": [
      "    PETRO CARD NO  TOKEN ID      VEHICLE NO       MODEL TRANSMISSION    FUEL  \\\n",
      "28   FC0005695472  23151702   MH-01-CD-0424  HONDA CITY    AUTOMATIC  PETROL   \n",
      "29   FC0005695464  23135551   MH-01-CD-0425  HONDA CITY    AUTOMATIC  PETROL   \n",
      "39   FC0005694764    200577   MH-01-CD-5475  HONDA CITY    AUTOMATIC  PETROL   \n",
      "42   FC0005694178    214609   MH-01-CD-5914  HONDA CITY    AUTOMATIC  PETROL   \n",
      "100  FC0005694475  25001262   MH-01-DB-9238  HONDA CITY       MANUAL  PETROL   \n",
      "128  FC0273368174    215419   MH-01-DK-5484  HONDA CITY       MANUAL  PETROL   \n",
      "132  FC0005694590    206575  MH-14-CS-9823   HONDA CITY       MANUAL  PETROL   \n",
      "\n",
      "     STATUS  \n",
      "28   ACTIVE  \n",
      "29   ACTIVE  \n",
      "39   ACTIVE  \n",
      "42   ACTIVE  \n",
      "100  ACTIVE  \n",
      "128  ACTIVE  \n",
      "132  ACTIVE  \n"
     ]
    }
   ],
   "source": [
    "print(df.groupby(['MODEL']).get_group('HONDA CITY'))"
   ]
  },
  {
   "cell_type": "code",
   "execution_count": 47,
   "metadata": {},
   "outputs": [
    {
     "name": "stdout",
     "output_type": "stream",
     "text": [
      "   PETRO CARD NO  TOKEN ID     VEHICLE NO   MODEL TRANSMISSION    FUEL  STATUS\n",
      "6   FC0005694673  23061454  KA-01-MQ-6924  VERITO       MANUAL  DIESEL  ACTIVE\n",
      "11  FC0005694160  23192481  MH-01-AX-6934  VERITO       MANUAL  DIESEL  ACTIVE\n",
      "14  FC0005695159  23192481  MH-01-BF-5901  VERITO       MANUAL  DIESEL  ACTIVE\n",
      "33  FC0005694582  23192481  MH-01-CD-2663  VERITO       MANUAL  DIESEL  ACTIVE\n",
      "82  FC0005695381    203656  MH-01-CT-8311  VERITO       MANUAL  DIESEL  ACTIVE\n"
     ]
    }
   ],
   "source": [
    "print(df.groupby(['MODEL']).get_group('VERITO'))"
   ]
  },
  {
   "cell_type": "code",
   "execution_count": 48,
   "metadata": {},
   "outputs": [
    {
     "name": "stdout",
     "output_type": "stream",
     "text": [
      "                 PETRO CARD NO  TOKEN ID     VEHICLE NO TRANSMISSION    FUEL  \\\n",
      "MODEL                                                                          \n",
      "ALTURAS G4 AWD    FC0005694996    211187  DL-8C-AY-5677    AUTOMATIC  DIESEL   \n",
      "AUDI A3           FC0005694061    206174  MH-01-CD-1017    AUTOMATIC  PETROL   \n",
      "BMW 320D          FC0005695134  23247001  MH-01-CH-0424    AUTOMATIC  DIESEL   \n",
      "BMW 520D          FC0005694897  23137327  MH-01-CD-7620    AUTOMATIC  DIESEL   \n",
      "BMW 525D          FC0005695027  23061475  KL-07-CM-7452    AUTOMATIC  DIESEL   \n",
      "BMW X1            FC0104951362    208369  MH-01-DK-5897    AUTOMATIC  PETROL   \n",
      "BMW X3            FC0272231423   2214238  MH-47-AG-0688    AUTOMATIC  DIESEL   \n",
      "CIAZ              FC0005695324    203610  MH-01-CH-1772    AUTOMATIC  PETROL   \n",
      "COROLLA ALTIS     FC0005694988    201508  MH-01-CP-4853       MANUAL  DIESEL   \n",
      "HONDA ACCORD      FC0005694137  23192481  MH-01-AH-9059       MANUAL  PETROL   \n",
      "HONDA AMAZE       FC0005694574  23192481  MH-01-BY-9802       MANUAL  PETROL   \n",
      "HONDA CITY        FC0005695472  23151702  MH-01-CD-0424    AUTOMATIC  PETROL   \n",
      "HYUNDAI I10       FC0005694772    203380  MH-01-CD-6991    AUTOMATIC  PETROL   \n",
      "HYUNDAI VERNA     FC0005693980    201273  MH-01-DB-5178    AUTOMATIC  PETROL   \n",
      "JETTA             FC0005695316  23155311  MH-01-CD-2509       MANUAL  PETROL   \n",
      "KUV 1OO           FC0006277189  23192481  MH-01-CD-5335       MANUAL  PETROL   \n",
      "MARRAZO           FC0005694616    205045  MH-01-DB-9362       MANUAL  DIESEL   \n",
      "MARUTI CELERIO    FC0005694285    210613  MH-01-BU-8057    AUTOMATIC  PETROL   \n",
      "MARUTI WAGON R    FC0014934508  23192481  MH-01-BG-1270       MANUAL  PETROL   \n",
      "MERCEDES B180     FC0005694624    200025  MH-01-BY-1003    AUTOMATIC  DIESEL   \n",
      "MERCEDES C220     FC0005694798  23061476  MH-01-CP-4029    AUTOMATIC  DIESEL   \n",
      "MERCEDES E200     FC0006277148  23192481  MH-01-CQ-1323    AUTOMATIC  PETROL   \n",
      "MERCEDES GLC 300  FC0005694780  24009256  MH-01-DE-1472    AUTOMATIC  PETROL   \n",
      "PASSAT            FC0005694004    213593  MH-01-DB-1183    AUTOMATIC  DIESEL   \n",
      "POLO              FC0005695118  23103492  MH-01-CT-7133    AUTOMATIC  PETROL   \n",
      "REXTON            FC0005695209  23192481  MH-01-BF-7223    AUTOMATIC  DIESEL   \n",
      "SCORPIO           FC0005694319  23148131  MH-01-CD-1907       MANUAL  DIESEL   \n",
      "SKODA OCTAVIA     FC0005694970  23163907  MH-01-CD-6968    AUTOMATIC  PETROL   \n",
      "SKODA SUPERB      FC0005694418  23172291  MH-01-CH-3956    AUTOMATIC  PETROL   \n",
      "THAR              FC0006277171  23192481  MH-01-DB-9520       MANUAL  DIESEL   \n",
      "TUV 3OO           FC0005695217  23192481  MH-01-BR-1555    AUTOMATIC  DIESEL   \n",
      "VENTO             FC0005695043  23103379  MH-01-DB-5803    AUTOMATIC  PETROL   \n",
      "VERITO            FC0005694673  23061454  KA-01-MQ-6924       MANUAL  DIESEL   \n",
      "XUV 3OO           FC0269754700  23096645  MH-01-DE-8824       MANUAL  DIESEL   \n",
      "XUV 5OO           FC0108719559    203505  DL-8C-AU-2787    AUTOMATIC  DIESEL   \n",
      "XYLO              FC7005694129  23192481  MH-01-AL-2011       MANUAL  DIESEL   \n",
      "\n",
      "                     STATUS  \n",
      "MODEL                        \n",
      "ALTURAS G4 AWD       ACTIVE  \n",
      "AUDI A3              ACTIVE  \n",
      "BMW 320D          HOTLISTED  \n",
      "BMW 520D             ACTIVE  \n",
      "BMW 525D             ACTIVE  \n",
      "BMW X1               ACTIVE  \n",
      "BMW X3               ACTIVE  \n",
      "CIAZ                 ACTIVE  \n",
      "COROLLA ALTIS        ACTIVE  \n",
      "HONDA ACCORD         ACTIVE  \n",
      "HONDA AMAZE          ACTIVE  \n",
      "HONDA CITY           ACTIVE  \n",
      "HYUNDAI I10          ACTIVE  \n",
      "HYUNDAI VERNA        ACTIVE  \n",
      "JETTA                ACTIVE  \n",
      "KUV 1OO              ACTIVE  \n",
      "MARRAZO              ACTIVE  \n",
      "MARUTI CELERIO       ACTIVE  \n",
      "MARUTI WAGON R       ACTIVE  \n",
      "MERCEDES B180        ACTIVE  \n",
      "MERCEDES C220        ACTIVE  \n",
      "MERCEDES E200        ACTIVE  \n",
      "MERCEDES GLC 300     ACTIVE  \n",
      "PASSAT               ACTIVE  \n",
      "POLO                 ACTIVE  \n",
      "REXTON               ACTIVE  \n",
      "SCORPIO              ACTIVE  \n",
      "SKODA OCTAVIA        ACTIVE  \n",
      "SKODA SUPERB         ACTIVE  \n",
      "THAR                 ACTIVE  \n",
      "TUV 3OO              ACTIVE  \n",
      "VENTO                ACTIVE  \n",
      "VERITO               ACTIVE  \n",
      "XUV 3OO              ACTIVE  \n",
      "XUV 5OO              ACTIVE  \n",
      "XYLO                 ACTIVE  \n",
      "                 PETRO CARD NO  TOKEN ID      VEHICLE NO TRANSMISSION    FUEL  \\\n",
      "MODEL                                                                           \n",
      "ALTURAS G4 AWD    FC0273929587  23141621   MH-01-DK-0812    AUTOMATIC  DIESEL   \n",
      "AUDI A3           FC0005694061    206174   MH-01-CD-1017    AUTOMATIC  PETROL   \n",
      "BMW 320D          FC0005695134  23247001   MH-01-CH-0424    AUTOMATIC  DIESEL   \n",
      "BMW 520D          FC0005694012    206923   MH-01-CP-7882    AUTOMATIC  DIESEL   \n",
      "BMW 525D          FC0005695100    204911   MH-15-DS-8327    AUTOMATIC  DIESEL   \n",
      "BMW X1            FC0104951362    208369   MH-01-DK-5897    AUTOMATIC  PETROL   \n",
      "BMW X3            FC0272231423   2214238   MH-47-AG-0688    AUTOMATIC  DIESEL   \n",
      "CIAZ              FC0005695324    203610   MH-01-CH-1772    AUTOMATIC  PETROL   \n",
      "COROLLA ALTIS     FC0005695407  25001212   MH-01-DB-7214    AUTOMATIC  PETROL   \n",
      "HONDA ACCORD      FC0006276868  23010044   MH-14-CK-2660       MANUAL  PETROL   \n",
      "HONDA AMAZE       FC0005694574  23192481   MH-01-BY-9802       MANUAL  PETROL   \n",
      "HONDA CITY        FC0005694590    206575  MH-14-CS-9823        MANUAL  PETROL   \n",
      "HYUNDAI I10       FC0005695332  23167137   MH-01-CH-2138    AUTOMATIC  PETROL   \n",
      "HYUNDAI VERNA     FC0005694038  23061155   MH-01-DB-7561    AUTOMATIC  DIESEL   \n",
      "JETTA             FC0005694384    200895   MH-01-CH-5732       MANUAL  PETROL   \n",
      "KUV 1OO           FC0005694426    211002   MH-01-CH-1340       MANUAL  DIESEL   \n",
      "MARRAZO           FC0005694053    208607   MH-01-DK-2686       MANUAL  DIESEL   \n",
      "MARUTI CELERIO    FC0278695431  23157934   MH-02-EP-6122    AUTOMATIC  PETROL   \n",
      "MARUTI WAGON R    FC0014934508  23192481   MH-01-BG-1270       MANUAL  PETROL   \n",
      "MERCEDES B180     FC0005694624    200025   MH-01-BY-1003    AUTOMATIC  DIESEL   \n",
      "MERCEDES C220     FC0005694798  23061476   MH-01-CP-4029    AUTOMATIC  DIESEL   \n",
      "MERCEDES E200     FC0005695019    204912   MH-01-DK-3739    AUTOMATIC  PETROL   \n",
      "MERCEDES GLC 300  FC0005694780  24009256   MH-01-DE-1472    AUTOMATIC  PETROL   \n",
      "PASSAT            FC0005694004    213593   MH-01-DB-1183    AUTOMATIC  DIESEL   \n",
      "POLO              FC0005695118  23103492   MH-01-CT-7133    AUTOMATIC  PETROL   \n",
      "REXTON            FC0005694087  23192481   MH-01-BU-1446    AUTOMATIC  DIESEL   \n",
      "SCORPIO           FC0005695035  23092538   MH-15-EX-4733       MANUAL  DIESEL   \n",
      "SKODA OCTAVIA     FC0005694806    208071   MH-01-CD-9361    AUTOMATIC  PETROL   \n",
      "SKODA SUPERB      FC0005694459    208492   MH-01-DE-6997    AUTOMATIC  PETROL   \n",
      "THAR              FC0006277171  23192481   MH-01-DB-9520       MANUAL  DIESEL   \n",
      "TUV 3OO           FC0005694533  23192481   MH-01-CV-1555       MANUAL  DIESEL   \n",
      "VENTO             FC0270028912  23062237   MH-03-CB-6188    AUTOMATIC  PETROL   \n",
      "VERITO            FC0005695381    203656   MH-01-CT-8311       MANUAL  DIESEL   \n",
      "XUV 3OO           FC0273372572    207624   MH-01-DK-5412       MANUAL  PETROL   \n",
      "XUV 5OO           FC0280132399  23137649   MH-01-DK-7943       MANUAL  DIESEL   \n",
      "XYLO              FC0005694129  23192481   MH-01-AL-2011       MANUAL  DIESEL   \n",
      "\n",
      "                     STATUS  \n",
      "MODEL                        \n",
      "ALTURAS G4 AWD       ACTIVE  \n",
      "AUDI A3              ACTIVE  \n",
      "BMW 320D          HOTLISTED  \n",
      "BMW 520D             ACTIVE  \n",
      "BMW 525D             ACTIVE  \n",
      "BMW X1               ACTIVE  \n",
      "BMW X3               ACTIVE  \n",
      "CIAZ                 ACTIVE  \n",
      "COROLLA ALTIS        ACTIVE  \n",
      "HONDA ACCORD         ACTIVE  \n",
      "HONDA AMAZE          ACTIVE  \n",
      "HONDA CITY           ACTIVE  \n",
      "HYUNDAI I10          ACTIVE  \n",
      "HYUNDAI VERNA        ACTIVE  \n",
      "JETTA                ACTIVE  \n",
      "KUV 1OO              ACTIVE  \n",
      "MARRAZO              ACTIVE  \n",
      "MARUTI CELERIO       ACTIVE  \n",
      "MARUTI WAGON R       ACTIVE  \n",
      "MERCEDES B180        ACTIVE  \n",
      "MERCEDES C220        ACTIVE  \n",
      "MERCEDES E200        ACTIVE  \n",
      "MERCEDES GLC 300     ACTIVE  \n",
      "PASSAT               ACTIVE  \n",
      "POLO                 ACTIVE  \n",
      "REXTON            HOTLISTED  \n",
      "SCORPIO              ACTIVE  \n",
      "SKODA OCTAVIA        ACTIVE  \n",
      "SKODA SUPERB         ACTIVE  \n",
      "THAR                 ACTIVE  \n",
      "TUV 3OO              ACTIVE  \n",
      "VENTO                ACTIVE  \n",
      "VERITO               ACTIVE  \n",
      "XUV 3OO              ACTIVE  \n",
      "XUV 5OO              ACTIVE  \n",
      "XYLO                 ACTIVE  \n"
     ]
    }
   ],
   "source": [
    "print(df.groupby(['MODEL']).first())\n",
    "print(df.groupby(['MODEL']).last())"
   ]
  },
  {
   "cell_type": "markdown",
   "metadata": {},
   "source": [
    "# Filteration of data on the basis of condition"
   ]
  },
  {
   "cell_type": "code",
   "execution_count": 53,
   "metadata": {},
   "outputs": [
    {
     "name": "stdout",
     "output_type": "stream",
     "text": [
      "6     FC0005694673\n",
      "11    FC0005694160\n",
      "14    FC0005695159\n",
      "33    FC0005694582\n",
      "82    FC0005695381\n",
      "Name: PETRO CARD NO, dtype: object\n",
      "28     23151702\n",
      "29     23135551\n",
      "39       200577\n",
      "42       214609\n",
      "100    25001262\n",
      "128      215419\n",
      "132      206575\n",
      "Name: TOKEN ID, dtype: int64\n",
      "60    ACTIVE\n",
      "Name: STATUS, dtype: object\n"
     ]
    }
   ],
   "source": [
    "print(df['PETRO CARD NO'][df['MODEL']==\"VERITO\"])\n",
    "print(df['TOKEN ID'][df['MODEL']==\"HONDA CITY\"])\n",
    "print(df['STATUS'][df['MODEL']==\"CIAZ\"])"
   ]
  },
  {
   "cell_type": "markdown",
   "metadata": {},
   "source": [
    "# Plotting of graph using histogram:Right Skewed distributed data which means we have outliers present here and so skewness is here so we have to transform the data by using log transformation."
   ]
  },
  {
   "cell_type": "code",
   "execution_count": 68,
   "metadata": {},
   "outputs": [
    {
     "name": "stdout",
     "output_type": "stream",
     "text": [
      "AxesSubplot(0.125,0.125;0.775x0.755)\n",
      "Text(0.5, 0, 'MODEL')\n"
     ]
    },
    {
     "data": {
      "image/png": "[encoded data removed]",
      "text/plain": [
       "<Figure size 432x288 with 1 Axes>"
      ]
     },
     "metadata": {
      "needs_background": "light"
     },
     "output_type": "display_data"
    }
   ],
   "source": [
    "print(df['MODEL'].value_counts().plot(kind ='hist',color ='yellow'))\n",
    "print(plt.xlabel('MODEL'))"
   ]
  },
  {
   "cell_type": "markdown",
   "metadata": {},
   "source": [
    "# Variable 5:-TRANSMISSION"
   ]
  },
  {
   "cell_type": "code",
   "execution_count": 55,
   "metadata": {},
   "outputs": [
    {
     "name": "stdout",
     "output_type": "stream",
     "text": [
      "['AUTOMATIC' 'MANUAL' nan]\n",
      "2\n"
     ]
    }
   ],
   "source": [
    "print(df['TRANSMISSION'].unique())\n",
    "print(df['TRANSMISSION'].nunique())"
   ]
  },
  {
   "cell_type": "markdown",
   "metadata": {},
   "source": [
    "# Use of groupby()"
   ]
  },
  {
   "cell_type": "code",
   "execution_count": 56,
   "metadata": {},
   "outputs": [
    {
     "name": "stdout",
     "output_type": "stream",
     "text": [
      "    PETRO CARD NO  TOKEN ID     VEHICLE NO           MODEL TRANSMISSION  \\\n",
      "0    FC0108719559    203505  DL-8C-AU-2787         XUV 5OO    AUTOMATIC   \n",
      "2    FC0005694996    211187  DL-8C-AY-5677  ALTURAS G4 AWD    AUTOMATIC   \n",
      "3    FC0273416064    211187  DL-8C-AY-5677  ALTURAS G4 AWD    AUTOMATIC   \n",
      "8    FC0005695027  23061475  KL-07-CM-7452        BMW 525D    AUTOMATIC   \n",
      "15   FC0005695209  23192481  MH-01-BF-7223          REXTON    AUTOMATIC   \n",
      "..            ...       ...            ...             ...          ...   \n",
      "130  FC0270028912  23062237  MH-03-CB-6188           VENTO    AUTOMATIC   \n",
      "133  FC0005694483    200256  MH-14-FM-2784         XUV 5OO    AUTOMATIC   \n",
      "134  FC0005695100    204911  MH-15-DS-8327        BMW 525D    AUTOMATIC   \n",
      "138  FC0014114614  23192481  MH-47-AF-1555         XUV 5OO    AUTOMATIC   \n",
      "139  FC0272231423   2214238  MH-47-AG-0688          BMW X3    AUTOMATIC   \n",
      "\n",
      "       FUEL  STATUS  \n",
      "0    DIESEL  ACTIVE  \n",
      "2    DIESEL  ACTIVE  \n",
      "3    DIESEL  ACTIVE  \n",
      "8    DIESEL  ACTIVE  \n",
      "15   DIESEL  ACTIVE  \n",
      "..      ...     ...  \n",
      "130  PETROL  ACTIVE  \n",
      "133  DIESEL  ACTIVE  \n",
      "134  DIESEL  ACTIVE  \n",
      "138  DIESEL  ACTIVE  \n",
      "139  DIESEL  ACTIVE  \n",
      "\n",
      "[84 rows x 7 columns]\n",
      "    PETRO CARD NO  TOKEN ID      VEHICLE NO           MODEL TRANSMISSION  \\\n",
      "1    FC0026782069  25005101   DL-8C-AY-0922         XUV 5OO       MANUAL   \n",
      "6    FC0005694673  23061454   KA-01-MQ-6924          VERITO       MANUAL   \n",
      "7    FC0013800270  23149398   KA-03-MU-1683         XUV 5OO       MANUAL   \n",
      "9    FC0005694137  23192481   MH-01-AH-9059    HONDA ACCORD       MANUAL   \n",
      "10   FC7005694129  23192481   MH-01-AL-2011            XYLO       MANUAL   \n",
      "11   FC0005694160  23192481   MH-01-AX-6934          VERITO       MANUAL   \n",
      "12   FC0005694269  23192481   MH-01-BF-1950         XUV 5OO       MANUAL   \n",
      "13   FC0005695282    204364   MH-01-BF-4289         XUV 5OO       MANUAL   \n",
      "14   FC0005695159  23192481   MH-01-BF-5901          VERITO       MANUAL   \n",
      "16   FC0014934508  23192481   MH-01-BG-1270  MARUTI WAGON R       MANUAL   \n",
      "18   FC0005694863    214830   MH-01-BK-7728         XUV 5OO       MANUAL   \n",
      "20   FC0005694699  23192481   MH-01-BS-1555         XUV 5OO       MANUAL   \n",
      "24   FC0005695084  23192481   MH-01-BY-5373         XUV 5OO       MANUAL   \n",
      "25   FC0005694152  23192481   MH-01-BY-6408         XUV 5OO       MANUAL   \n",
      "26   FC0005695480  23144970   MH-01-BY-8298         XUV 5OO       MANUAL   \n",
      "27   FC0005694574  23192481   MH-01-BY-9802     HONDA AMAZE       MANUAL   \n",
      "31   FC0005694319  23148131   MH-01-CD-1907         SCORPIO       MANUAL   \n",
      "32   FC0005695316  23155311   MH-01-CD-2509           JETTA       MANUAL   \n",
      "33   FC0005694582  23192481   MH-01-CD-2663          VERITO       MANUAL   \n",
      "34   FC0005695290  23192481   MH-01-CD-2665         SCORPIO       MANUAL   \n",
      "35   FC0005695233  23192481   MH-01-CD-3498         XUV 5OO       MANUAL   \n",
      "36   FC0005694541  23192481   MH-01-CD-4929         TUV 3OO       MANUAL   \n",
      "37   FC0006277189  23192481   MH-01-CD-5335         KUV 1OO       MANUAL   \n",
      "38   FC0005694871  23192481   MH-01-CD-5338         SCORPIO       MANUAL   \n",
      "41   FC0005694301    209105   MH-01-CD-5877         TUV 3OO       MANUAL   \n",
      "52   FC0005694145  23192481   MH-01-CD-8678         XUV 5OO       MANUAL   \n",
      "55   FC0005694715  23192481   MH-01-CD-9760         XUV 5OO       MANUAL   \n",
      "59   FC0005694426    211002   MH-01-CH-1340         KUV 1OO       MANUAL   \n",
      "64   FC0005695365  23066772   MH-01-CH-5421         XUV 5OO       MANUAL   \n",
      "65   FC0005694384    200895   MH-01-CH-5732           JETTA       MANUAL   \n",
      "69   FC0005694988    201508   MH-01-CP-4853   COROLLA ALTIS       MANUAL   \n",
      "72   FC0005694442  25000421   MH-01-CP-8471         XUV 5OO       MANUAL   \n",
      "78   FC0005693998  23192481   MH-01-CT-3496         TUV 3OO       MANUAL   \n",
      "82   FC0005695381    203656   MH-01-CT-8311          VERITO       MANUAL   \n",
      "83   FC0005694533  23192481   MH-01-CV-1555         TUV 3OO       MANUAL   \n",
      "89   FC0005695415  23192481   MH-01-DB-3655         SCORPIO       MANUAL   \n",
      "90   FC0005694434    206055   MH-01-DB-3814         XUV 5OO       MANUAL   \n",
      "94   FC0005694210  23106941  MH-01-DB-6686          XUV 5OO       MANUAL   \n",
      "95   FC0005695399  23192481   MH-01-DB-6811         XUV 5OO       MANUAL   \n",
      "97   FC0005694020    200238   MH-01-DB-6965         XUV 5OO       MANUAL   \n",
      "100  FC0005694475  25001262   MH-01-DB-9238      HONDA CITY       MANUAL   \n",
      "102  FC0005694616    205045   MH-01-DB-9362         MARRAZO       MANUAL   \n",
      "103  FC0006277171  23192481   MH-01-DB-9520            THAR       MANUAL   \n",
      "107  FC0005695050    206055   MH-01-DE-2254         MARRAZO       MANUAL   \n",
      "115  FC0269754700  23096645   MH-01-DE-8824         XUV 3OO       MANUAL   \n",
      "116  FC0005694954  23141621   MH-01-DE-8851         MARRAZO       MANUAL   \n",
      "124  FC0005694053    208607   MH-01-DK-2686         MARRAZO       MANUAL   \n",
      "127  FC0273372572    207624   MH-01-DK-5412         XUV 3OO       MANUAL   \n",
      "128  FC0273368174    215419   MH-01-DK-5484      HONDA CITY       MANUAL   \n",
      "131  FC0006276868  23010044   MH-14-CK-2660    HONDA ACCORD       MANUAL   \n",
      "132  FC0005694590    206575  MH-14-CS-9823       HONDA CITY       MANUAL   \n",
      "135  FC0005694277  23092538   MH-15-EX-4642         SCORPIO       MANUAL   \n",
      "136  FC0005695035  23092538   MH-15-EX-4733         SCORPIO       MANUAL   \n",
      "137  FC0005694723  25000421   MH-15-FT-4366         XUV 5OO       MANUAL   \n",
      "141  FC0120933618    212752   TN-01-BF-4982         XUV 5OO       MANUAL   \n",
      "142  FC0013800312  23100962   WB-20-BE-7622         XUV 5OO       MANUAL   \n",
      "\n",
      "       FUEL      STATUS  \n",
      "1    DIESEL      ACTIVE  \n",
      "6    DIESEL      ACTIVE  \n",
      "7    DIESEL      ACTIVE  \n",
      "9    PETROL      ACTIVE  \n",
      "10   DIESEL      ACTIVE  \n",
      "11   DIESEL      ACTIVE  \n",
      "12   DIESEL      ACTIVE  \n",
      "13   DIESEL      ACTIVE  \n",
      "14   DIESEL      ACTIVE  \n",
      "16   PETROL      ACTIVE  \n",
      "18   DIESEL      ACTIVE  \n",
      "20   DIESEL      ACTIVE  \n",
      "24   DIESEL      ACTIVE  \n",
      "25   DIESEL      ACTIVE  \n",
      "26   DIESEL  DACTIVATED  \n",
      "27   PETROL      ACTIVE  \n",
      "31   DIESEL      ACTIVE  \n",
      "32   PETROL      ACTIVE  \n",
      "33   DIESEL      ACTIVE  \n",
      "34   DIESEL      ACTIVE  \n",
      "35   DIESEL      ACTIVE  \n",
      "36   DIESEL      ACTIVE  \n",
      "37   PETROL      ACTIVE  \n",
      "38   DIESEL      ACTIVE  \n",
      "41   DIESEL      ACTIVE  \n",
      "52   DIESEL      ACTIVE  \n",
      "55   DIESEL      ACTIVE  \n",
      "59   DIESEL      ACTIVE  \n",
      "64   DIESEL      ACTIVE  \n",
      "65   PETROL      ACTIVE  \n",
      "69   DIESEL      ACTIVE  \n",
      "72   DIESEL      ACTIVE  \n",
      "78   DIESEL      ACTIVE  \n",
      "82   DIESEL      ACTIVE  \n",
      "83   DIESEL      ACTIVE  \n",
      "89   DIESEL      ACTIVE  \n",
      "90   DIESEL      ACTIVE  \n",
      "94   DIESEL      ACTIVE  \n",
      "95   DIESEL      ACTIVE  \n",
      "97   DIESEL   HOTLISTED  \n",
      "100  PETROL      ACTIVE  \n",
      "102  DIESEL      ACTIVE  \n",
      "103  DIESEL      ACTIVE  \n",
      "107  DIESEL      ACTIVE  \n",
      "115  DIESEL      ACTIVE  \n",
      "116  DIESEL      ACTIVE  \n",
      "124  DIESEL      ACTIVE  \n",
      "127  PETROL      ACTIVE  \n",
      "128  PETROL      ACTIVE  \n",
      "131  PETROL      ACTIVE  \n",
      "132  PETROL      ACTIVE  \n",
      "135  DIESEL      ACTIVE  \n",
      "136  DIESEL      ACTIVE  \n",
      "137  DIESEL      ACTIVE  \n",
      "141  DIESEL      ACTIVE  \n",
      "142  DIESEL      ACTIVE  \n"
     ]
    }
   ],
   "source": [
    "print(df.groupby(['TRANSMISSION']).get_group('AUTOMATIC'))\n",
    "print(df.groupby(['TRANSMISSION']).get_group('MANUAL'))"
   ]
  },
  {
   "cell_type": "markdown",
   "metadata": {},
   "source": [
    "# Find total count of data_item using value_counts()"
   ]
  },
  {
   "cell_type": "code",
   "execution_count": 58,
   "metadata": {},
   "outputs": [
    {
     "name": "stdout",
     "output_type": "stream",
     "text": [
      "AUTOMATIC    84\n",
      "MANUAL       56\n",
      "Name: TRANSMISSION, dtype: int64\n"
     ]
    }
   ],
   "source": [
    "print(df['TRANSMISSION'].value_counts())"
   ]
  },
  {
   "cell_type": "markdown",
   "metadata": {},
   "source": [
    "# Plotting of graph using histogram:-Edge type distributed data which means data is defined within a particular range of (55-60),(80-85)"
   ]
  },
  {
   "cell_type": "code",
   "execution_count": 69,
   "metadata": {},
   "outputs": [
    {
     "name": "stdout",
     "output_type": "stream",
     "text": [
      "AxesSubplot(0.125,0.125;0.775x0.755)\n",
      "Text(0.5, 0, 'TRANSMISSION')\n"
     ]
    },
    {
     "data": {
      "image/png": "[encoded data removed]",
      "text/plain": [
       "<Figure size 432x288 with 1 Axes>"
      ]
     },
     "metadata": {
      "needs_background": "light"
     },
     "output_type": "display_data"
    }
   ],
   "source": [
    "print(df['TRANSMISSION'].value_counts().plot(kind ='hist',color ='brown'))\n",
    "print(plt.xlabel('TRANSMISSION'))"
   ]
  },
  {
   "cell_type": "markdown",
   "metadata": {},
   "source": [
    "# Variable 6:-FUEL"
   ]
  },
  {
   "cell_type": "code",
   "execution_count": 59,
   "metadata": {},
   "outputs": [
    {
     "name": "stdout",
     "output_type": "stream",
     "text": [
      "['DIESEL' 'PETROL']\n",
      "2\n"
     ]
    }
   ],
   "source": [
    "print(df['FUEL'].unique())\n",
    "print(df['FUEL'].nunique())"
   ]
  },
  {
   "cell_type": "markdown",
   "metadata": {},
   "source": [
    "# Use of groupby()"
   ]
  },
  {
   "cell_type": "code",
   "execution_count": 60,
   "metadata": {},
   "outputs": [
    {
     "name": "stdout",
     "output_type": "stream",
     "text": [
      "    PETRO CARD NO  TOKEN ID     VEHICLE NO           MODEL TRANSMISSION  \\\n",
      "0    FC0108719559    203505  DL-8C-AU-2787         XUV 5OO    AUTOMATIC   \n",
      "1    FC0026782069  25005101  DL-8C-AY-0922         XUV 5OO       MANUAL   \n",
      "2    FC0005694996    211187  DL-8C-AY-5677  ALTURAS G4 AWD    AUTOMATIC   \n",
      "3    FC0273416064    211187  DL-8C-AY-5677  ALTURAS G4 AWD    AUTOMATIC   \n",
      "4    FC0005694749  25000421      GENERATOR             NaN          NaN   \n",
      "..            ...       ...            ...             ...          ...   \n",
      "141  FC0120933618    212752  TN-01-BF-4982         XUV 5OO       MANUAL   \n",
      "142  FC0013800312  23100962  WB-20-BE-7622         XUV 5OO       MANUAL   \n",
      "143  FC0005694129  23192481  MH-01-AL-2011            XYLO          NaN   \n",
      "144  FC0280132431  23148746  MH-01-DK-7948         XUV 5OO          NaN   \n",
      "145  FC0280132399  23137649  MH-01-DK-7943         XUV 5OO          NaN   \n",
      "\n",
      "       FUEL  STATUS  \n",
      "0    DIESEL  ACTIVE  \n",
      "1    DIESEL  ACTIVE  \n",
      "2    DIESEL  ACTIVE  \n",
      "3    DIESEL  ACTIVE  \n",
      "4    DIESEL  ACTIVE  \n",
      "..      ...     ...  \n",
      "141  DIESEL  ACTIVE  \n",
      "142  DIESEL  ACTIVE  \n",
      "143  DIESEL  ACTIVE  \n",
      "144  DIESEL  ACTIVE  \n",
      "145  DIESEL  ACTIVE  \n",
      "\n",
      "[109 rows x 7 columns]\n",
      "    PETRO CARD NO  TOKEN ID      VEHICLE NO             MODEL TRANSMISSION  \\\n",
      "9    FC0005694137  23192481   MH-01-AH-9059      HONDA ACCORD       MANUAL   \n",
      "16   FC0014934508  23192481   MH-01-BG-1270    MARUTI WAGON R       MANUAL   \n",
      "22   FC0005694285    210613   MH-01-BU-8057    MARUTI CELERIO    AUTOMATIC   \n",
      "27   FC0005694574  23192481   MH-01-BY-9802       HONDA AMAZE       MANUAL   \n",
      "28   FC0005695472  23151702   MH-01-CD-0424        HONDA CITY    AUTOMATIC   \n",
      "29   FC0005695464  23135551   MH-01-CD-0425        HONDA CITY    AUTOMATIC   \n",
      "30   FC0005694061    206174   MH-01-CD-1017           AUDI A3    AUTOMATIC   \n",
      "32   FC0005695316  23155311   MH-01-CD-2509             JETTA       MANUAL   \n",
      "37   FC0006277189  23192481   MH-01-CD-5335           KUV 1OO       MANUAL   \n",
      "39   FC0005694764    200577   MH-01-CD-5475        HONDA CITY    AUTOMATIC   \n",
      "42   FC0005694178    214609   MH-01-CD-5914        HONDA CITY    AUTOMATIC   \n",
      "46   FC0005694970  23163907   MH-01-CD-6968     SKODA OCTAVIA    AUTOMATIC   \n",
      "47   FC0005694772    203380   MH-01-CD-6991       HYUNDAI I10    AUTOMATIC   \n",
      "54   FC0005694806    208071   MH-01-CD-9361     SKODA OCTAVIA    AUTOMATIC   \n",
      "60   FC0005695324    203610   MH-01-CH-1772              CIAZ    AUTOMATIC   \n",
      "61   FC0005695332  23167137   MH-01-CH-2138       HYUNDAI I10    AUTOMATIC   \n",
      "63   FC0005694418  23172291   MH-01-CH-3956      SKODA SUPERB    AUTOMATIC   \n",
      "65   FC0005694384    200895   MH-01-CH-5732             JETTA       MANUAL   \n",
      "73   FC0005695241    212834   MH-01-CP-9491     COROLLA ALTIS    AUTOMATIC   \n",
      "74   FC0006277148  23192481   MH-01-CQ-1323     MERCEDES E200    AUTOMATIC   \n",
      "76   FC0005694103    200238   MH-01-CT-0306      SKODA SUPERB    AUTOMATIC   \n",
      "80   FC0005695118  23103492   MH-01-CT-7133              POLO    AUTOMATIC   \n",
      "85   FC0005695076  23082897   MH-01-DB-1288     COROLLA ALTIS    AUTOMATIC   \n",
      "92   FC0005693980    201273   MH-01-DB-5178     HYUNDAI VERNA    AUTOMATIC   \n",
      "93   FC0005695043  23103379   MH-01-DB-5803             VENTO    AUTOMATIC   \n",
      "98   FC0005695407  25001212   MH-01-DB-7214     COROLLA ALTIS    AUTOMATIC   \n",
      "100  FC0005694475  25001262   MH-01-DB-9238        HONDA CITY       MANUAL   \n",
      "101  FC0005694491  25001858   MH-01-DB-9261      SKODA SUPERB    AUTOMATIC   \n",
      "105  FC0005694780  24009256   MH-01-DE-1472  MERCEDES GLC 300    AUTOMATIC   \n",
      "111  FC0005694459    208492   MH-01-DE-6997      SKODA SUPERB    AUTOMATIC   \n",
      "125  FC0005695019    204912   MH-01-DK-3739     MERCEDES E200    AUTOMATIC   \n",
      "127  FC0273372572    207624   MH-01-DK-5412           XUV 3OO       MANUAL   \n",
      "128  FC0273368174    215419   MH-01-DK-5484        HONDA CITY       MANUAL   \n",
      "129  FC0104951362    208369   MH-01-DK-5897            BMW X1    AUTOMATIC   \n",
      "130  FC0270028912  23062237   MH-03-CB-6188             VENTO    AUTOMATIC   \n",
      "131  FC0006276868  23010044   MH-14-CK-2660      HONDA ACCORD       MANUAL   \n",
      "132  FC0005694590    206575  MH-14-CS-9823         HONDA CITY       MANUAL   \n",
      "146  FC0278695431  23157934   MH-02-EP-6122    MARUTI CELERIO          NaN   \n",
      "\n",
      "       FUEL     STATUS  \n",
      "9    PETROL     ACTIVE  \n",
      "16   PETROL     ACTIVE  \n",
      "22   PETROL     ACTIVE  \n",
      "27   PETROL     ACTIVE  \n",
      "28   PETROL     ACTIVE  \n",
      "29   PETROL     ACTIVE  \n",
      "30   PETROL     ACTIVE  \n",
      "32   PETROL     ACTIVE  \n",
      "37   PETROL     ACTIVE  \n",
      "39   PETROL     ACTIVE  \n",
      "42   PETROL     ACTIVE  \n",
      "46   PETROL     ACTIVE  \n",
      "47   PETROL     ACTIVE  \n",
      "54   PETROL     ACTIVE  \n",
      "60   PETROL     ACTIVE  \n",
      "61   PETROL     ACTIVE  \n",
      "63   PETROL     ACTIVE  \n",
      "65   PETROL     ACTIVE  \n",
      "73   PETROL     ACTIVE  \n",
      "74   PETROL     ACTIVE  \n",
      "76   PETROL  HOTLISTED  \n",
      "80   PETROL     ACTIVE  \n",
      "85   PETROL     ACTIVE  \n",
      "92   PETROL     ACTIVE  \n",
      "93   PETROL     ACTIVE  \n",
      "98   PETROL     ACTIVE  \n",
      "100  PETROL     ACTIVE  \n",
      "101  PETROL     ACTIVE  \n",
      "105  PETROL     ACTIVE  \n",
      "111  PETROL     ACTIVE  \n",
      "125  PETROL     ACTIVE  \n",
      "127  PETROL     ACTIVE  \n",
      "128  PETROL     ACTIVE  \n",
      "129  PETROL     ACTIVE  \n",
      "130  PETROL     ACTIVE  \n",
      "131  PETROL     ACTIVE  \n",
      "132  PETROL     ACTIVE  \n",
      "146  PETROL     ACTIVE  \n"
     ]
    }
   ],
   "source": [
    "print(df.groupby(['FUEL']).get_group('DIESEL'))\n",
    "print(df.groupby(['FUEL']).get_group('PETROL'))"
   ]
  },
  {
   "cell_type": "markdown",
   "metadata": {},
   "source": [
    "# Plotting of data using histogram:-Edge type distributed data which means data is distributed within a particular range (40-50),(100-110)"
   ]
  },
  {
   "cell_type": "code",
   "execution_count": 70,
   "metadata": {},
   "outputs": [
    {
     "name": "stdout",
     "output_type": "stream",
     "text": [
      "AxesSubplot(0.125,0.125;0.775x0.755)\n",
      "Text(0.5, 0, 'FUEL')\n"
     ]
    },
    {
     "data": {
      "image/png": "[encoded data removed]",
      "text/plain": [
       "<Figure size 432x288 with 1 Axes>"
      ]
     },
     "metadata": {
      "needs_background": "light"
     },
     "output_type": "display_data"
    }
   ],
   "source": [
    "print(df['FUEL'].value_counts().plot(kind ='hist',color ='black'))\n",
    "print(plt.xlabel('FUEL'))"
   ]
  },
  {
   "cell_type": "markdown",
   "metadata": {},
   "source": [
    "# Variable 7:-STATUS"
   ]
  },
  {
   "cell_type": "code",
   "execution_count": 62,
   "metadata": {},
   "outputs": [
    {
     "name": "stdout",
     "output_type": "stream",
     "text": [
      "['ACTIVE' 'HOTLISTED' 'DACTIVATED']\n",
      "3\n"
     ]
    }
   ],
   "source": [
    "print(df['STATUS'].unique())\n",
    "print(df['STATUS'].nunique())"
   ]
  },
  {
   "cell_type": "markdown",
   "metadata": {},
   "source": [
    "# Use of groupby()"
   ]
  },
  {
   "cell_type": "code",
   "execution_count": 63,
   "metadata": {},
   "outputs": [
    {
     "name": "stdout",
     "output_type": "stream",
     "text": [
      "    PETRO CARD NO  TOKEN ID     VEHICLE NO           MODEL TRANSMISSION  \\\n",
      "0    FC0108719559    203505  DL-8C-AU-2787         XUV 5OO    AUTOMATIC   \n",
      "1    FC0026782069  25005101  DL-8C-AY-0922         XUV 5OO       MANUAL   \n",
      "2    FC0005694996    211187  DL-8C-AY-5677  ALTURAS G4 AWD    AUTOMATIC   \n",
      "3    FC0273416064    211187  DL-8C-AY-5677  ALTURAS G4 AWD    AUTOMATIC   \n",
      "4    FC0005694749  25000421      GENERATOR             NaN          NaN   \n",
      "..            ...       ...            ...             ...          ...   \n",
      "142  FC0013800312  23100962  WB-20-BE-7622         XUV 5OO       MANUAL   \n",
      "143  FC0005694129  23192481  MH-01-AL-2011            XYLO          NaN   \n",
      "144  FC0280132431  23148746  MH-01-DK-7948         XUV 5OO          NaN   \n",
      "145  FC0280132399  23137649  MH-01-DK-7943         XUV 5OO          NaN   \n",
      "146  FC0278695431  23157934  MH-02-EP-6122  MARUTI CELERIO          NaN   \n",
      "\n",
      "       FUEL  STATUS  \n",
      "0    DIESEL  ACTIVE  \n",
      "1    DIESEL  ACTIVE  \n",
      "2    DIESEL  ACTIVE  \n",
      "3    DIESEL  ACTIVE  \n",
      "4    DIESEL  ACTIVE  \n",
      "..      ...     ...  \n",
      "142  DIESEL  ACTIVE  \n",
      "143  DIESEL  ACTIVE  \n",
      "144  DIESEL  ACTIVE  \n",
      "145  DIESEL  ACTIVE  \n",
      "146  PETROL  ACTIVE  \n",
      "\n",
      "[138 rows x 7 columns]\n",
      "    PETRO CARD NO  TOKEN ID     VEHICLE NO           MODEL TRANSMISSION  \\\n",
      "21   FC0005694087  23192481  MH-01-BU-1446          REXTON    AUTOMATIC   \n",
      "50   FC0005694400    215372  MH-01-CD-7747   SKODA OCTAVIA    AUTOMATIC   \n",
      "56   FC0005695134  23247001  MH-01-CH-0424        BMW 320D    AUTOMATIC   \n",
      "76   FC0005694103    200238  MH-01-CT-0306    SKODA SUPERB    AUTOMATIC   \n",
      "86   FC0005694244  23172838  MH-01-DB-3182         XUV 5OO    AUTOMATIC   \n",
      "97   FC0005694020    200238  MH-01-DB-6965         XUV 5OO       MANUAL   \n",
      "118  FC0005694707  23192481  MH-01-DH-1555  ALTURAS G4 AWD    AUTOMATIC   \n",
      "\n",
      "       FUEL     STATUS  \n",
      "21   DIESEL  HOTLISTED  \n",
      "50   DIESEL  HOTLISTED  \n",
      "56   DIESEL  HOTLISTED  \n",
      "76   PETROL  HOTLISTED  \n",
      "86   DIESEL  HOTLISTED  \n",
      "97   DIESEL  HOTLISTED  \n",
      "118  DIESEL  HOTLISTED  \n",
      "    PETRO CARD NO  TOKEN ID     VEHICLE NO           MODEL TRANSMISSION  \\\n",
      "26   FC0005695480  23144970  MH-01-BY-8298         XUV 5OO       MANUAL   \n",
      "120  FC0005694293  23141621  MH-01-DK-0812  ALTURAS G4 AWD    AUTOMATIC   \n",
      "\n",
      "       FUEL      STATUS  \n",
      "26   DIESEL  DACTIVATED  \n",
      "120  DIESEL  DACTIVATED  \n"
     ]
    }
   ],
   "source": [
    "print(df.groupby(['STATUS']).get_group('ACTIVE'))\n",
    "print(df.groupby(['STATUS']).get_group('HOTLISTED'))\n",
    "print(df.groupby(['STATUS']).get_group('DACTIVATED'))"
   ]
  },
  {
   "cell_type": "markdown",
   "metadata": {},
   "source": [
    "# Find total count of data_item using value_counts()"
   ]
  },
  {
   "cell_type": "code",
   "execution_count": 64,
   "metadata": {},
   "outputs": [
    {
     "name": "stdout",
     "output_type": "stream",
     "text": [
      "ACTIVE        138\n",
      "HOTLISTED       7\n",
      "DACTIVATED      2\n",
      "Name: STATUS, dtype: int64\n"
     ]
    }
   ],
   "source": [
    "print(df['STATUS'].value_counts())"
   ]
  },
  {
   "cell_type": "markdown",
   "metadata": {},
   "source": [
    "# Plotting of graph using histogram:-Edge type distributed data which means data is distributed within a particular range (0-20),(120-140):-Here we could see that we have 138 as total count of status as value for Active which means % frequency distribution of active is 0.98 with 72 column is filled with status as Active out of 147 total rows."
   ]
  },
  {
   "cell_type": "code",
   "execution_count": 72,
   "metadata": {},
   "outputs": [
    {
     "name": "stdout",
     "output_type": "stream",
     "text": [
      "AxesSubplot(0.125,0.125;0.775x0.755)\n",
      "Text(0.5, 0, 'STATUS')\n"
     ]
    },
    {
     "data": {
      "image/png": "[encoded data removed]",
      "text/plain": [
       "<Figure size 432x288 with 1 Axes>"
      ]
     },
     "metadata": {
      "needs_background": "light"
     },
     "output_type": "display_data"
    }
   ],
   "source": [
    "print(df['STATUS'].value_counts().plot(kind ='hist',color ='grey'))\n",
    "print(plt.xlabel('STATUS'))"
   ]
  },
  {
   "cell_type": "code",
   "execution_count": null,
   "metadata": {},
   "outputs": [],
   "source": []
  }
 ],
 "metadata": {
  "kernelspec": {
   "display_name": "Python 3",
   "language": "python",
   "name": "python3"
  },
  "language_info": {
   "codemirror_mode": {
    "name": "ipython",
    "version": 3
   },
   "file_extension": ".py",
   "mimetype": "text/x-python",
   "name": "python",
   "nbconvert_exporter": "python",
   "pygments_lexer": "ipython3",
   "version": "3.7.6"
  }
 },
 "nbformat": 4,
 "nbformat_minor": 4
}
